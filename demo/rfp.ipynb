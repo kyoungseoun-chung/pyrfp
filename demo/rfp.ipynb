{
 "cells": [
  {
   "attachments": {},
   "cell_type": "markdown",
   "metadata": {},
   "source": [
    "# The Rosenbluth-Fokker-Planck equation\n",
    "\n",
    "- Import all relevant modules"
   ]
  },
  {
   "cell_type": "code",
   "execution_count": 1,
   "metadata": {},
   "outputs": [],
   "source": [
    "import torch\n",
    "from pyapes.geometry import Cylinder\n",
    "from pyapes.mesh import Mesh\n",
    "from pyrfp.simulators.rfp import RFP_RZ\n",
    "from pyrfp.training_data import RosenbluthPotentials_RZ\n",
    "from pymytools.constants import PI\n"
   ]
  },
  {
   "attachments": {},
   "cell_type": "markdown",
   "metadata": {},
   "source": [
    "- Set some parameters to be used later"
   ]
  },
  {
   "cell_type": "code",
   "execution_count": 2,
   "metadata": {},
   "outputs": [],
   "source": [
    "device=\"cpu\"\n",
    "grids = [[32, 64], [64, 128], [128, 256], [256, 512]]"
   ]
  },
  {
   "attachments": {},
   "cell_type": "markdown",
   "metadata": {},
   "source": [
    "- Solver accuracy at different grids"
   ]
  },
  {
   "cell_type": "code",
   "execution_count": 7,
   "metadata": {},
   "outputs": [
    {
     "name": "stdout",
     "output_type": "stream",
     "text": [
      "Grid: [32, 64], H_norm: 0.3063407579312375, G_norm: 0.15240387377466638\n"
     ]
    },
    {
     "data": {
      "text/html": [
       "<pre style=\"white-space:pre;overflow-x:auto;line-height:normal;font-family:Menlo,'DejaVu Sans Mono',consolas,'Courier New',monospace\"><span style=\"font-style: italic\">             Timer Report             </span>\n",
       "┏━━━━━━━━┳━━━━━━━━━━━━━━━━━━┳━━━━━━━━┓\n",
       "┃<span style=\"font-weight: bold\">  Name  </span>┃<span style=\"font-weight: bold\"> Elapsed time [s] </span>┃<span style=\"font-weight: bold\"> #Calls </span>┃\n",
       "┡━━━━━━━━╇━━━━━━━━━━━━━━━━━━╇━━━━━━━━┩\n",
       "│<span style=\"color: #008080; text-decoration-color: #008080\">  H_bc  </span>│<span style=\"color: #008000; text-decoration-color: #008000\">     0.01174      </span>│<span style=\"color: #800080; text-decoration-color: #800080\">   1    </span>│\n",
       "│<span style=\"color: #008080; text-decoration-color: #008080\"> H_pot  </span>│<span style=\"color: #008000; text-decoration-color: #008000\">     0.04266      </span>│<span style=\"color: #800080; text-decoration-color: #800080\">   1    </span>│\n",
       "│<span style=\"color: #008080; text-decoration-color: #008080\">  G_bc  </span>│<span style=\"color: #008000; text-decoration-color: #008000\">     0.01205      </span>│<span style=\"color: #800080; text-decoration-color: #800080\">   1    </span>│\n",
       "│<span style=\"color: #008080; text-decoration-color: #008080\"> G_pot  </span>│<span style=\"color: #008000; text-decoration-color: #008000\">     0.04229      </span>│<span style=\"color: #800080; text-decoration-color: #800080\">   1    </span>│\n",
       "│<span style=\"color: #008080; text-decoration-color: #008080\"> aH_pot </span>│<span style=\"color: #008000; text-decoration-color: #008000\">     0.11489      </span>│<span style=\"color: #800080; text-decoration-color: #800080\">   1    </span>│\n",
       "│<span style=\"color: #008080; text-decoration-color: #008080\"> aG_pot </span>│<span style=\"color: #008000; text-decoration-color: #008000\">     0.11292      </span>│<span style=\"color: #800080; text-decoration-color: #800080\">   1    </span>│\n",
       "└────────┴──────────────────┴────────┘\n",
       "</pre>\n"
      ],
      "text/plain": [
       "\u001b[3m             Timer Report             \u001b[0m\n",
       "┏━━━━━━━━┳━━━━━━━━━━━━━━━━━━┳━━━━━━━━┓\n",
       "┃\u001b[1m \u001b[0m\u001b[1m Name \u001b[0m\u001b[1m \u001b[0m┃\u001b[1m \u001b[0m\u001b[1mElapsed time [s]\u001b[0m\u001b[1m \u001b[0m┃\u001b[1m \u001b[0m\u001b[1m#Calls\u001b[0m\u001b[1m \u001b[0m┃\n",
       "┡━━━━━━━━╇━━━━━━━━━━━━━━━━━━╇━━━━━━━━┩\n",
       "│\u001b[36m \u001b[0m\u001b[36m H_bc \u001b[0m\u001b[36m \u001b[0m│\u001b[32m \u001b[0m\u001b[32m    0.01174     \u001b[0m\u001b[32m \u001b[0m│\u001b[35m \u001b[0m\u001b[35m  1   \u001b[0m\u001b[35m \u001b[0m│\n",
       "│\u001b[36m \u001b[0m\u001b[36mH_pot \u001b[0m\u001b[36m \u001b[0m│\u001b[32m \u001b[0m\u001b[32m    0.04266     \u001b[0m\u001b[32m \u001b[0m│\u001b[35m \u001b[0m\u001b[35m  1   \u001b[0m\u001b[35m \u001b[0m│\n",
       "│\u001b[36m \u001b[0m\u001b[36m G_bc \u001b[0m\u001b[36m \u001b[0m│\u001b[32m \u001b[0m\u001b[32m    0.01205     \u001b[0m\u001b[32m \u001b[0m│\u001b[35m \u001b[0m\u001b[35m  1   \u001b[0m\u001b[35m \u001b[0m│\n",
       "│\u001b[36m \u001b[0m\u001b[36mG_pot \u001b[0m\u001b[36m \u001b[0m│\u001b[32m \u001b[0m\u001b[32m    0.04229     \u001b[0m\u001b[32m \u001b[0m│\u001b[35m \u001b[0m\u001b[35m  1   \u001b[0m\u001b[35m \u001b[0m│\n",
       "│\u001b[36m \u001b[0m\u001b[36maH_pot\u001b[0m\u001b[36m \u001b[0m│\u001b[32m \u001b[0m\u001b[32m    0.11489     \u001b[0m\u001b[32m \u001b[0m│\u001b[35m \u001b[0m\u001b[35m  1   \u001b[0m\u001b[35m \u001b[0m│\n",
       "│\u001b[36m \u001b[0m\u001b[36maG_pot\u001b[0m\u001b[36m \u001b[0m│\u001b[32m \u001b[0m\u001b[32m    0.11292     \u001b[0m\u001b[32m \u001b[0m│\u001b[35m \u001b[0m\u001b[35m  1   \u001b[0m\u001b[35m \u001b[0m│\n",
       "└────────┴──────────────────┴────────┘\n"
      ]
     },
     "metadata": {},
     "output_type": "display_data"
    },
    {
     "name": "stdout",
     "output_type": "stream",
     "text": [
      "Grid: [64, 128], H_norm: 0.16913616571807608, G_norm: 0.0739285975943533\n"
     ]
    },
    {
     "data": {
      "text/html": [
       "<pre style=\"white-space:pre;overflow-x:auto;line-height:normal;font-family:Menlo,'DejaVu Sans Mono',consolas,'Courier New',monospace\"><span style=\"font-style: italic\">             Timer Report             </span>\n",
       "┏━━━━━━━━┳━━━━━━━━━━━━━━━━━━┳━━━━━━━━┓\n",
       "┃<span style=\"font-weight: bold\">  Name  </span>┃<span style=\"font-weight: bold\"> Elapsed time [s] </span>┃<span style=\"font-weight: bold\"> #Calls </span>┃\n",
       "┡━━━━━━━━╇━━━━━━━━━━━━━━━━━━╇━━━━━━━━┩\n",
       "│<span style=\"color: #008080; text-decoration-color: #008080\">  H_bc  </span>│<span style=\"color: #008000; text-decoration-color: #008000\">     0.08304      </span>│<span style=\"color: #800080; text-decoration-color: #800080\">   1    </span>│\n",
       "│<span style=\"color: #008080; text-decoration-color: #008080\"> H_pot  </span>│<span style=\"color: #008000; text-decoration-color: #008000\">     0.22965      </span>│<span style=\"color: #800080; text-decoration-color: #800080\">   1    </span>│\n",
       "│<span style=\"color: #008080; text-decoration-color: #008080\">  G_bc  </span>│<span style=\"color: #008000; text-decoration-color: #008000\">     0.06135      </span>│<span style=\"color: #800080; text-decoration-color: #800080\">   1    </span>│\n",
       "│<span style=\"color: #008080; text-decoration-color: #008080\"> G_pot  </span>│<span style=\"color: #008000; text-decoration-color: #008000\">     0.27493      </span>│<span style=\"color: #800080; text-decoration-color: #800080\">   1    </span>│\n",
       "│<span style=\"color: #008080; text-decoration-color: #008080\"> aH_pot </span>│<span style=\"color: #008000; text-decoration-color: #008000\">     1.48192      </span>│<span style=\"color: #800080; text-decoration-color: #800080\">   1    </span>│\n",
       "│<span style=\"color: #008080; text-decoration-color: #008080\"> aG_pot </span>│<span style=\"color: #008000; text-decoration-color: #008000\">     1.51645      </span>│<span style=\"color: #800080; text-decoration-color: #800080\">   1    </span>│\n",
       "└────────┴──────────────────┴────────┘\n",
       "</pre>\n"
      ],
      "text/plain": [
       "\u001b[3m             Timer Report             \u001b[0m\n",
       "┏━━━━━━━━┳━━━━━━━━━━━━━━━━━━┳━━━━━━━━┓\n",
       "┃\u001b[1m \u001b[0m\u001b[1m Name \u001b[0m\u001b[1m \u001b[0m┃\u001b[1m \u001b[0m\u001b[1mElapsed time [s]\u001b[0m\u001b[1m \u001b[0m┃\u001b[1m \u001b[0m\u001b[1m#Calls\u001b[0m\u001b[1m \u001b[0m┃\n",
       "┡━━━━━━━━╇━━━━━━━━━━━━━━━━━━╇━━━━━━━━┩\n",
       "│\u001b[36m \u001b[0m\u001b[36m H_bc \u001b[0m\u001b[36m \u001b[0m│\u001b[32m \u001b[0m\u001b[32m    0.08304     \u001b[0m\u001b[32m \u001b[0m│\u001b[35m \u001b[0m\u001b[35m  1   \u001b[0m\u001b[35m \u001b[0m│\n",
       "│\u001b[36m \u001b[0m\u001b[36mH_pot \u001b[0m\u001b[36m \u001b[0m│\u001b[32m \u001b[0m\u001b[32m    0.22965     \u001b[0m\u001b[32m \u001b[0m│\u001b[35m \u001b[0m\u001b[35m  1   \u001b[0m\u001b[35m \u001b[0m│\n",
       "│\u001b[36m \u001b[0m\u001b[36m G_bc \u001b[0m\u001b[36m \u001b[0m│\u001b[32m \u001b[0m\u001b[32m    0.06135     \u001b[0m\u001b[32m \u001b[0m│\u001b[35m \u001b[0m\u001b[35m  1   \u001b[0m\u001b[35m \u001b[0m│\n",
       "│\u001b[36m \u001b[0m\u001b[36mG_pot \u001b[0m\u001b[36m \u001b[0m│\u001b[32m \u001b[0m\u001b[32m    0.27493     \u001b[0m\u001b[32m \u001b[0m│\u001b[35m \u001b[0m\u001b[35m  1   \u001b[0m\u001b[35m \u001b[0m│\n",
       "│\u001b[36m \u001b[0m\u001b[36maH_pot\u001b[0m\u001b[36m \u001b[0m│\u001b[32m \u001b[0m\u001b[32m    1.48192     \u001b[0m\u001b[32m \u001b[0m│\u001b[35m \u001b[0m\u001b[35m  1   \u001b[0m\u001b[35m \u001b[0m│\n",
       "│\u001b[36m \u001b[0m\u001b[36maG_pot\u001b[0m\u001b[36m \u001b[0m│\u001b[32m \u001b[0m\u001b[32m    1.51645     \u001b[0m\u001b[32m \u001b[0m│\u001b[35m \u001b[0m\u001b[35m  1   \u001b[0m\u001b[35m \u001b[0m│\n",
       "└────────┴──────────────────┴────────┘\n"
      ]
     },
     "metadata": {},
     "output_type": "display_data"
    },
    {
     "ename": "KeyboardInterrupt",
     "evalue": "",
     "output_type": "error",
     "traceback": [
      "\u001b[0;31m---------------------------------------------------------------------------\u001b[0m",
      "\u001b[0;31mKeyboardInterrupt\u001b[0m                         Traceback (most recent call last)",
      "Cell \u001b[0;32mIn[7], line 16\u001b[0m\n\u001b[1;32m      8\u001b[0m rp_rz \u001b[39m=\u001b[39m RosenbluthPotentials_RZ(mesh, solver_config\u001b[39m=\u001b[39m{\n\u001b[1;32m      9\u001b[0m         \u001b[39m\"\u001b[39m\u001b[39mmethod\u001b[39m\u001b[39m\"\u001b[39m: \u001b[39m\"\u001b[39m\u001b[39mbicgstab\u001b[39m\u001b[39m\"\u001b[39m,\n\u001b[1;32m     10\u001b[0m         \u001b[39m\"\u001b[39m\u001b[39mtol\u001b[39m\u001b[39m\"\u001b[39m: \u001b[39m1e-6\u001b[39m,\n\u001b[1;32m     11\u001b[0m         \u001b[39m\"\u001b[39m\u001b[39mmax_it\u001b[39m\u001b[39m\"\u001b[39m: \u001b[39m1000\u001b[39m,\n\u001b[1;32m     12\u001b[0m         \u001b[39m\"\u001b[39m\u001b[39mreport\u001b[39m\u001b[39m\"\u001b[39m: \u001b[39mFalse\u001b[39;00m,\n\u001b[1;32m     13\u001b[0m     })\n\u001b[1;32m     15\u001b[0m res_sol \u001b[39m=\u001b[39m rp_rz\u001b[39m.\u001b[39mfrom_pdf(dist, disp\u001b[39m=\u001b[39m\u001b[39mFalse\u001b[39;00m)\n\u001b[0;32m---> 16\u001b[0m res_analytic \u001b[39m=\u001b[39m rp_rz\u001b[39m.\u001b[39;49mfrom_analytic(dist, disp\u001b[39m=\u001b[39;49m\u001b[39mFalse\u001b[39;49;00m, low_mem\u001b[39m=\u001b[39;49m\u001b[39mTrue\u001b[39;49;00m)\n\u001b[1;32m     18\u001b[0m \u001b[39massert\u001b[39;00m res_sol[\u001b[39m\"\u001b[39m\u001b[39mtimer\u001b[39m\u001b[39m\"\u001b[39m] \u001b[39mis\u001b[39;00m \u001b[39mnot\u001b[39;00m \u001b[39mNone\u001b[39;00m\n\u001b[1;32m     19\u001b[0m \u001b[39massert\u001b[39;00m res_analytic[\u001b[39m\"\u001b[39m\u001b[39mtimer\u001b[39m\u001b[39m\"\u001b[39m] \u001b[39mis\u001b[39;00m \u001b[39mnot\u001b[39;00m \u001b[39mNone\u001b[39;00m\n",
      "File \u001b[0;32m~/Dropbox/Personal/python_projects/pyrfp/pyrfp/training_data.py:181\u001b[0m, in \u001b[0;36mRosenbluthPotentials_RZ.from_analytic\u001b[0;34m(self, pdf, disp, low_mem)\u001b[0m\n\u001b[1;32m    177\u001b[0m logging\u001b[39m.\u001b[39minfo(\n\u001b[1;32m    178\u001b[0m     markup(\u001b[39m\"\u001b[39m\u001b[39mSolving H potential analytically...\u001b[39m\u001b[39m\"\u001b[39m, \u001b[39m\"\u001b[39m\u001b[39myellow\u001b[39m\u001b[39m\"\u001b[39m)\n\u001b[1;32m    179\u001b[0m ) \u001b[39mif\u001b[39;00m disp \u001b[39melse\u001b[39;00m \u001b[39mNone\u001b[39;00m\n\u001b[1;32m    180\u001b[0m \u001b[39mself\u001b[39m\u001b[39m.\u001b[39mtimer\u001b[39m.\u001b[39mstart(\u001b[39m\"\u001b[39m\u001b[39maH_pot\u001b[39m\u001b[39m\"\u001b[39m)\n\u001b[0;32m--> 181\u001b[0m H_pot \u001b[39m=\u001b[39m analytic_pot(\u001b[39mself\u001b[39;49m\u001b[39m.\u001b[39;49mmesh\u001b[39m.\u001b[39;49mgrid, \u001b[39mself\u001b[39;49m\u001b[39m.\u001b[39;49mmesh\u001b[39m.\u001b[39;49mgrid, pdf, \u001b[39m\"\u001b[39;49m\u001b[39mH\u001b[39;49m\u001b[39m\"\u001b[39;49m)\n\u001b[1;32m    182\u001b[0m \u001b[39mself\u001b[39m\u001b[39m.\u001b[39mtimer\u001b[39m.\u001b[39mend(\u001b[39m\"\u001b[39m\u001b[39maH_pot\u001b[39m\u001b[39m\"\u001b[39m)\n\u001b[1;32m    184\u001b[0m logging\u001b[39m.\u001b[39minfo(\n\u001b[1;32m    185\u001b[0m     markup(\u001b[39m\"\u001b[39m\u001b[39mSolving G potential analytically...\u001b[39m\u001b[39m\"\u001b[39m, \u001b[39m\"\u001b[39m\u001b[39myellow\u001b[39m\u001b[39m\"\u001b[39m)\n\u001b[1;32m    186\u001b[0m ) \u001b[39mif\u001b[39;00m disp \u001b[39melse\u001b[39;00m \u001b[39mNone\u001b[39;00m\n",
      "File \u001b[0;32m~/Dropbox/Personal/python_projects/pyrfp/pyrfp/training_data.py:388\u001b[0m, in \u001b[0;36manalytic_potentials_rz_cpu_low_mem\u001b[0;34m(target, grid, pdf, potential)\u001b[0m\n\u001b[1;32m    385\u001b[0m k \u001b[39m=\u001b[39m \u001b[39m4\u001b[39m \u001b[39m*\u001b[39m ur_t \u001b[39m*\u001b[39m ur \u001b[39m/\u001b[39m inner\n\u001b[1;32m    387\u001b[0m \u001b[39mif\u001b[39;00m potential\u001b[39m.\u001b[39mlower() \u001b[39m==\u001b[39m \u001b[39m\"\u001b[39m\u001b[39mh\u001b[39m\u001b[39m\"\u001b[39m:\n\u001b[0;32m--> 388\u001b[0m     ek \u001b[39m=\u001b[39m s_ellipk(k\u001b[39m.\u001b[39;49mto(device\u001b[39m=\u001b[39;49mtorch\u001b[39m.\u001b[39;49mdevice(\u001b[39m\"\u001b[39;49m\u001b[39mcpu\u001b[39;49m\u001b[39m\"\u001b[39;49m)))\u001b[39m.\u001b[39mto(\n\u001b[1;32m    389\u001b[0m         device\u001b[39m=\u001b[39mur\u001b[39m.\u001b[39mdevice, dtype\u001b[39m=\u001b[39mur\u001b[39m.\u001b[39mdtype\n\u001b[1;32m    390\u001b[0m     )\n\u001b[1;32m    391\u001b[0m     ek[k\u001b[39m.\u001b[39meq(\u001b[39m1.0\u001b[39m)] \u001b[39m=\u001b[39m \u001b[39m0.0\u001b[39m\n\u001b[1;32m    393\u001b[0m     pot[i, j] \u001b[39m=\u001b[39m torch\u001b[39m.\u001b[39msum(\n\u001b[1;32m    394\u001b[0m         torch\u001b[39m.\u001b[39mnan_to_num(\n\u001b[1;32m    395\u001b[0m             \u001b[39m8\u001b[39m \u001b[39m*\u001b[39m ur \u001b[39m*\u001b[39m pdf \u001b[39m*\u001b[39m ek \u001b[39m/\u001b[39m torch\u001b[39m.\u001b[39msqrt(inner) \u001b[39m*\u001b[39m hr \u001b[39m*\u001b[39m hz,\n\u001b[0;32m   (...)\u001b[0m\n\u001b[1;32m    399\u001b[0m         )\n\u001b[1;32m    400\u001b[0m     )\n",
      "File \u001b[0;32m~/Dropbox/Personal/python_projects/pyrfp/.venv/lib/python3.10/site-packages/torch/_tensor.py:976\u001b[0m, in \u001b[0;36mTensor.__array_wrap__\u001b[0;34m(self, array)\u001b[0m\n\u001b[1;32m    972\u001b[0m         \u001b[39mreturn\u001b[39;00m \u001b[39mself\u001b[39m\u001b[39m.\u001b[39mnumpy()\u001b[39m.\u001b[39mastype(dtype, copy\u001b[39m=\u001b[39m\u001b[39mFalse\u001b[39;00m)\n\u001b[1;32m    974\u001b[0m \u001b[39m# Wrap Numpy array again in a suitable tensor when done, to support e.g.\u001b[39;00m\n\u001b[1;32m    975\u001b[0m \u001b[39m# `numpy.sin(tensor) -> tensor` or `numpy.greater(tensor, 0) -> ByteTensor`\u001b[39;00m\n\u001b[0;32m--> 976\u001b[0m \u001b[39mdef\u001b[39;00m \u001b[39m__array_wrap__\u001b[39m(\u001b[39mself\u001b[39m, array):\n\u001b[1;32m    977\u001b[0m     \u001b[39mif\u001b[39;00m has_torch_function_unary(\u001b[39mself\u001b[39m):\n\u001b[1;32m    978\u001b[0m         \u001b[39mreturn\u001b[39;00m handle_torch_function(\n\u001b[1;32m    979\u001b[0m             Tensor\u001b[39m.\u001b[39m__array_wrap__, (\u001b[39mself\u001b[39m,), \u001b[39mself\u001b[39m, array\u001b[39m=\u001b[39marray\n\u001b[1;32m    980\u001b[0m         )\n",
      "\u001b[0;31mKeyboardInterrupt\u001b[0m: "
     ]
    }
   ],
   "source": [
    "for g in grids:\n",
    "    mesh = Mesh(Cylinder[0:5, -5:5], None, g, device=device)\n",
    "    dist = 1.0 / (2.0 * PI) ** 1.5 * torch.exp(-0.5 * (mesh.R**2 + mesh.Z**2))\n",
    "\n",
    "    density = torch.sum(dist * 2.0 * PI * mesh.dx[0] * mesh.dx[1] * mesh.R)\n",
    "    dist /= density\n",
    "    \n",
    "    rp_rz = RosenbluthPotentials_RZ(mesh, solver_config={\n",
    "            \"method\": \"bicgstab\",\n",
    "            \"tol\": 1e-6,\n",
    "            \"max_it\": 1000,\n",
    "            \"report\": False,\n",
    "        })\n",
    "    \n",
    "    res_sol = rp_rz.from_pdf(dist, disp=False)\n",
    "    res_analytic = rp_rz.from_analytic(dist, disp=False, low_mem=True)\n",
    "    \n",
    "    assert res_sol[\"timer\"] is not None\n",
    "    assert res_analytic[\"timer\"] is not None\n",
    "    \n",
    "    assert res_sol[\"pots\"] is not None\n",
    "    assert res_analytic[\"pots\"] is not None\n",
    "    \n",
    "    H_sol = res_sol[\"pots\"][\"H\"]\n",
    "    G_sol = res_sol[\"pots\"][\"G\"]\n",
    "    \n",
    "    H_analytic = res_analytic[\"pots\"][\"H\"]\n",
    "    G_analytic = res_analytic[\"pots\"][\"G\"]\n",
    "    \n",
    "    H_norm = torch.linalg.norm((H_sol - H_analytic))\n",
    "    G_norm = torch.linalg.norm((G_sol - G_analytic))\n",
    "\n",
    "    print(f\"Grid: {g}, H_norm: {H_norm:.2e}, G_norm: {G_norm:.2e}\")\n",
    "    res_sol[\"timer\"].display()\n",
    "    \n",
    "    rp_rz.timer.reset()\n",
    "\n"
   ]
  },
  {
   "attachments": {},
   "cell_type": "markdown",
   "metadata": {},
   "source": [
    "- Computational cost with different grid sized"
   ]
  },
  {
   "cell_type": "code",
   "execution_count": 2,
   "metadata": {},
   "outputs": [
    {
     "name": "stdout",
     "output_type": "stream",
     "text": [
      "Tested grid: [32, 64]\n"
     ]
    },
    {
     "data": {
      "text/html": [
       "<pre style=\"white-space:pre;overflow-x:auto;line-height:normal;font-family:Menlo,'DejaVu Sans Mono',consolas,'Courier New',monospace\"><span style=\"font-style: italic\">            Timer Report             </span>\n",
       "┏━━━━━━━┳━━━━━━━━━━━━━━━━━━┳━━━━━━━━┓\n",
       "┃<span style=\"font-weight: bold\"> Name  </span>┃<span style=\"font-weight: bold\"> Elapsed time [s] </span>┃<span style=\"font-weight: bold\"> #Calls </span>┃\n",
       "┡━━━━━━━╇━━━━━━━━━━━━━━━━━━╇━━━━━━━━┩\n",
       "│<span style=\"color: #008080; text-decoration-color: #008080\"> H_bc  </span>│<span style=\"color: #008000; text-decoration-color: #008000\">     0.08918      </span>│<span style=\"color: #800080; text-decoration-color: #800080\">   10   </span>│\n",
       "│<span style=\"color: #008080; text-decoration-color: #008080\"> H_sol </span>│<span style=\"color: #008000; text-decoration-color: #008000\">     0.37887      </span>│<span style=\"color: #800080; text-decoration-color: #800080\">   10   </span>│\n",
       "│<span style=\"color: #008080; text-decoration-color: #008080\"> G_bc  </span>│<span style=\"color: #008000; text-decoration-color: #008000\">     0.08756      </span>│<span style=\"color: #800080; text-decoration-color: #800080\">   10   </span>│\n",
       "│<span style=\"color: #008080; text-decoration-color: #008080\"> G_sol </span>│<span style=\"color: #008000; text-decoration-color: #008000\">     0.39268      </span>│<span style=\"color: #800080; text-decoration-color: #800080\">   10   </span>│\n",
       "└───────┴──────────────────┴────────┘\n",
       "</pre>\n"
      ],
      "text/plain": [
       "\u001b[3m            Timer Report             \u001b[0m\n",
       "┏━━━━━━━┳━━━━━━━━━━━━━━━━━━┳━━━━━━━━┓\n",
       "┃\u001b[1m \u001b[0m\u001b[1mName \u001b[0m\u001b[1m \u001b[0m┃\u001b[1m \u001b[0m\u001b[1mElapsed time [s]\u001b[0m\u001b[1m \u001b[0m┃\u001b[1m \u001b[0m\u001b[1m#Calls\u001b[0m\u001b[1m \u001b[0m┃\n",
       "┡━━━━━━━╇━━━━━━━━━━━━━━━━━━╇━━━━━━━━┩\n",
       "│\u001b[36m \u001b[0m\u001b[36mH_bc \u001b[0m\u001b[36m \u001b[0m│\u001b[32m \u001b[0m\u001b[32m    0.08918     \u001b[0m\u001b[32m \u001b[0m│\u001b[35m \u001b[0m\u001b[35m  10  \u001b[0m\u001b[35m \u001b[0m│\n",
       "│\u001b[36m \u001b[0m\u001b[36mH_sol\u001b[0m\u001b[36m \u001b[0m│\u001b[32m \u001b[0m\u001b[32m    0.37887     \u001b[0m\u001b[32m \u001b[0m│\u001b[35m \u001b[0m\u001b[35m  10  \u001b[0m\u001b[35m \u001b[0m│\n",
       "│\u001b[36m \u001b[0m\u001b[36mG_bc \u001b[0m\u001b[36m \u001b[0m│\u001b[32m \u001b[0m\u001b[32m    0.08756     \u001b[0m\u001b[32m \u001b[0m│\u001b[35m \u001b[0m\u001b[35m  10  \u001b[0m\u001b[35m \u001b[0m│\n",
       "│\u001b[36m \u001b[0m\u001b[36mG_sol\u001b[0m\u001b[36m \u001b[0m│\u001b[32m \u001b[0m\u001b[32m    0.39268     \u001b[0m\u001b[32m \u001b[0m│\u001b[35m \u001b[0m\u001b[35m  10  \u001b[0m\u001b[35m \u001b[0m│\n",
       "└───────┴──────────────────┴────────┘\n"
      ]
     },
     "metadata": {},
     "output_type": "display_data"
    },
    {
     "name": "stdout",
     "output_type": "stream",
     "text": [
      "Tested grid: [64, 128]\n"
     ]
    },
    {
     "data": {
      "text/html": [
       "<pre style=\"white-space:pre;overflow-x:auto;line-height:normal;font-family:Menlo,'DejaVu Sans Mono',consolas,'Courier New',monospace\"><span style=\"font-style: italic\">            Timer Report             </span>\n",
       "┏━━━━━━━┳━━━━━━━━━━━━━━━━━━┳━━━━━━━━┓\n",
       "┃<span style=\"font-weight: bold\"> Name  </span>┃<span style=\"font-weight: bold\"> Elapsed time [s] </span>┃<span style=\"font-weight: bold\"> #Calls </span>┃\n",
       "┡━━━━━━━╇━━━━━━━━━━━━━━━━━━╇━━━━━━━━┩\n",
       "│<span style=\"color: #008080; text-decoration-color: #008080\"> H_bc  </span>│<span style=\"color: #008000; text-decoration-color: #008000\">     0.59745      </span>│<span style=\"color: #800080; text-decoration-color: #800080\">   10   </span>│\n",
       "│<span style=\"color: #008080; text-decoration-color: #008080\"> H_sol </span>│<span style=\"color: #008000; text-decoration-color: #008000\">     1.68591      </span>│<span style=\"color: #800080; text-decoration-color: #800080\">   10   </span>│\n",
       "│<span style=\"color: #008080; text-decoration-color: #008080\"> G_bc  </span>│<span style=\"color: #008000; text-decoration-color: #008000\">     0.59088      </span>│<span style=\"color: #800080; text-decoration-color: #800080\">   10   </span>│\n",
       "│<span style=\"color: #008080; text-decoration-color: #008080\"> G_sol </span>│<span style=\"color: #008000; text-decoration-color: #008000\">     1.90611      </span>│<span style=\"color: #800080; text-decoration-color: #800080\">   10   </span>│\n",
       "└───────┴──────────────────┴────────┘\n",
       "</pre>\n"
      ],
      "text/plain": [
       "\u001b[3m            Timer Report             \u001b[0m\n",
       "┏━━━━━━━┳━━━━━━━━━━━━━━━━━━┳━━━━━━━━┓\n",
       "┃\u001b[1m \u001b[0m\u001b[1mName \u001b[0m\u001b[1m \u001b[0m┃\u001b[1m \u001b[0m\u001b[1mElapsed time [s]\u001b[0m\u001b[1m \u001b[0m┃\u001b[1m \u001b[0m\u001b[1m#Calls\u001b[0m\u001b[1m \u001b[0m┃\n",
       "┡━━━━━━━╇━━━━━━━━━━━━━━━━━━╇━━━━━━━━┩\n",
       "│\u001b[36m \u001b[0m\u001b[36mH_bc \u001b[0m\u001b[36m \u001b[0m│\u001b[32m \u001b[0m\u001b[32m    0.59745     \u001b[0m\u001b[32m \u001b[0m│\u001b[35m \u001b[0m\u001b[35m  10  \u001b[0m\u001b[35m \u001b[0m│\n",
       "│\u001b[36m \u001b[0m\u001b[36mH_sol\u001b[0m\u001b[36m \u001b[0m│\u001b[32m \u001b[0m\u001b[32m    1.68591     \u001b[0m\u001b[32m \u001b[0m│\u001b[35m \u001b[0m\u001b[35m  10  \u001b[0m\u001b[35m \u001b[0m│\n",
       "│\u001b[36m \u001b[0m\u001b[36mG_bc \u001b[0m\u001b[36m \u001b[0m│\u001b[32m \u001b[0m\u001b[32m    0.59088     \u001b[0m\u001b[32m \u001b[0m│\u001b[35m \u001b[0m\u001b[35m  10  \u001b[0m\u001b[35m \u001b[0m│\n",
       "│\u001b[36m \u001b[0m\u001b[36mG_sol\u001b[0m\u001b[36m \u001b[0m│\u001b[32m \u001b[0m\u001b[32m    1.90611     \u001b[0m\u001b[32m \u001b[0m│\u001b[35m \u001b[0m\u001b[35m  10  \u001b[0m\u001b[35m \u001b[0m│\n",
       "└───────┴──────────────────┴────────┘\n"
      ]
     },
     "metadata": {},
     "output_type": "display_data"
    },
    {
     "name": "stdout",
     "output_type": "stream",
     "text": [
      "Tested grid: [128, 256]\n"
     ]
    },
    {
     "data": {
      "text/html": [
       "<pre style=\"white-space:pre;overflow-x:auto;line-height:normal;font-family:Menlo,'DejaVu Sans Mono',consolas,'Courier New',monospace\"><span style=\"font-style: italic\">            Timer Report             </span>\n",
       "┏━━━━━━━┳━━━━━━━━━━━━━━━━━━┳━━━━━━━━┓\n",
       "┃<span style=\"font-weight: bold\"> Name  </span>┃<span style=\"font-weight: bold\"> Elapsed time [s] </span>┃<span style=\"font-weight: bold\"> #Calls </span>┃\n",
       "┡━━━━━━━╇━━━━━━━━━━━━━━━━━━╇━━━━━━━━┩\n",
       "│<span style=\"color: #008080; text-decoration-color: #008080\"> H_bc  </span>│<span style=\"color: #008000; text-decoration-color: #008000\">     4.39087      </span>│<span style=\"color: #800080; text-decoration-color: #800080\">   10   </span>│\n",
       "│<span style=\"color: #008080; text-decoration-color: #008080\"> H_sol </span>│<span style=\"color: #008000; text-decoration-color: #008000\">     10.43475     </span>│<span style=\"color: #800080; text-decoration-color: #800080\">   10   </span>│\n",
       "│<span style=\"color: #008080; text-decoration-color: #008080\"> G_bc  </span>│<span style=\"color: #008000; text-decoration-color: #008000\">     4.17052      </span>│<span style=\"color: #800080; text-decoration-color: #800080\">   10   </span>│\n",
       "│<span style=\"color: #008080; text-decoration-color: #008080\"> G_sol </span>│<span style=\"color: #008000; text-decoration-color: #008000\">     10.84780     </span>│<span style=\"color: #800080; text-decoration-color: #800080\">   10   </span>│\n",
       "└───────┴──────────────────┴────────┘\n",
       "</pre>\n"
      ],
      "text/plain": [
       "\u001b[3m            Timer Report             \u001b[0m\n",
       "┏━━━━━━━┳━━━━━━━━━━━━━━━━━━┳━━━━━━━━┓\n",
       "┃\u001b[1m \u001b[0m\u001b[1mName \u001b[0m\u001b[1m \u001b[0m┃\u001b[1m \u001b[0m\u001b[1mElapsed time [s]\u001b[0m\u001b[1m \u001b[0m┃\u001b[1m \u001b[0m\u001b[1m#Calls\u001b[0m\u001b[1m \u001b[0m┃\n",
       "┡━━━━━━━╇━━━━━━━━━━━━━━━━━━╇━━━━━━━━┩\n",
       "│\u001b[36m \u001b[0m\u001b[36mH_bc \u001b[0m\u001b[36m \u001b[0m│\u001b[32m \u001b[0m\u001b[32m    4.39087     \u001b[0m\u001b[32m \u001b[0m│\u001b[35m \u001b[0m\u001b[35m  10  \u001b[0m\u001b[35m \u001b[0m│\n",
       "│\u001b[36m \u001b[0m\u001b[36mH_sol\u001b[0m\u001b[36m \u001b[0m│\u001b[32m \u001b[0m\u001b[32m    10.43475    \u001b[0m\u001b[32m \u001b[0m│\u001b[35m \u001b[0m\u001b[35m  10  \u001b[0m\u001b[35m \u001b[0m│\n",
       "│\u001b[36m \u001b[0m\u001b[36mG_bc \u001b[0m\u001b[36m \u001b[0m│\u001b[32m \u001b[0m\u001b[32m    4.17052     \u001b[0m\u001b[32m \u001b[0m│\u001b[35m \u001b[0m\u001b[35m  10  \u001b[0m\u001b[35m \u001b[0m│\n",
       "│\u001b[36m \u001b[0m\u001b[36mG_sol\u001b[0m\u001b[36m \u001b[0m│\u001b[32m \u001b[0m\u001b[32m    10.84780    \u001b[0m\u001b[32m \u001b[0m│\u001b[35m \u001b[0m\u001b[35m  10  \u001b[0m\u001b[35m \u001b[0m│\n",
       "└───────┴──────────────────┴────────┘\n"
      ]
     },
     "metadata": {},
     "output_type": "display_data"
    },
    {
     "name": "stdout",
     "output_type": "stream",
     "text": [
      "Tested grid: [256, 512]\n"
     ]
    },
    {
     "data": {
      "text/html": [
       "<pre style=\"white-space:pre;overflow-x:auto;line-height:normal;font-family:Menlo,'DejaVu Sans Mono',consolas,'Courier New',monospace\"><span style=\"font-style: italic\">            Timer Report             </span>\n",
       "┏━━━━━━━┳━━━━━━━━━━━━━━━━━━┳━━━━━━━━┓\n",
       "┃<span style=\"font-weight: bold\"> Name  </span>┃<span style=\"font-weight: bold\"> Elapsed time [s] </span>┃<span style=\"font-weight: bold\"> #Calls </span>┃\n",
       "┡━━━━━━━╇━━━━━━━━━━━━━━━━━━╇━━━━━━━━┩\n",
       "│<span style=\"color: #008080; text-decoration-color: #008080\"> H_bc  </span>│<span style=\"color: #008000; text-decoration-color: #008000\">     57.30470     </span>│<span style=\"color: #800080; text-decoration-color: #800080\">   10   </span>│\n",
       "│<span style=\"color: #008080; text-decoration-color: #008080\"> H_sol </span>│<span style=\"color: #008000; text-decoration-color: #008000\">     74.41498     </span>│<span style=\"color: #800080; text-decoration-color: #800080\">   10   </span>│\n",
       "│<span style=\"color: #008080; text-decoration-color: #008080\"> G_bc  </span>│<span style=\"color: #008000; text-decoration-color: #008000\">     55.42355     </span>│<span style=\"color: #800080; text-decoration-color: #800080\">   10   </span>│\n",
       "│<span style=\"color: #008080; text-decoration-color: #008080\"> G_sol </span>│<span style=\"color: #008000; text-decoration-color: #008000\">     71.48135     </span>│<span style=\"color: #800080; text-decoration-color: #800080\">   10   </span>│\n",
       "└───────┴──────────────────┴────────┘\n",
       "</pre>\n"
      ],
      "text/plain": [
       "\u001b[3m            Timer Report             \u001b[0m\n",
       "┏━━━━━━━┳━━━━━━━━━━━━━━━━━━┳━━━━━━━━┓\n",
       "┃\u001b[1m \u001b[0m\u001b[1mName \u001b[0m\u001b[1m \u001b[0m┃\u001b[1m \u001b[0m\u001b[1mElapsed time [s]\u001b[0m\u001b[1m \u001b[0m┃\u001b[1m \u001b[0m\u001b[1m#Calls\u001b[0m\u001b[1m \u001b[0m┃\n",
       "┡━━━━━━━╇━━━━━━━━━━━━━━━━━━╇━━━━━━━━┩\n",
       "│\u001b[36m \u001b[0m\u001b[36mH_bc \u001b[0m\u001b[36m \u001b[0m│\u001b[32m \u001b[0m\u001b[32m    57.30470    \u001b[0m\u001b[32m \u001b[0m│\u001b[35m \u001b[0m\u001b[35m  10  \u001b[0m\u001b[35m \u001b[0m│\n",
       "│\u001b[36m \u001b[0m\u001b[36mH_sol\u001b[0m\u001b[36m \u001b[0m│\u001b[32m \u001b[0m\u001b[32m    74.41498    \u001b[0m\u001b[32m \u001b[0m│\u001b[35m \u001b[0m\u001b[35m  10  \u001b[0m\u001b[35m \u001b[0m│\n",
       "│\u001b[36m \u001b[0m\u001b[36mG_bc \u001b[0m\u001b[36m \u001b[0m│\u001b[32m \u001b[0m\u001b[32m    55.42355    \u001b[0m\u001b[32m \u001b[0m│\u001b[35m \u001b[0m\u001b[35m  10  \u001b[0m\u001b[35m \u001b[0m│\n",
       "│\u001b[36m \u001b[0m\u001b[36mG_sol\u001b[0m\u001b[36m \u001b[0m│\u001b[32m \u001b[0m\u001b[32m    71.48135    \u001b[0m\u001b[32m \u001b[0m│\u001b[35m \u001b[0m\u001b[35m  10  \u001b[0m\u001b[35m \u001b[0m│\n",
       "└───────┴──────────────────┴────────┘\n"
      ]
     },
     "metadata": {},
     "output_type": "display_data"
    }
   ],
   "source": [
    "\n",
    "for g in grids:\n",
    "    mesh = Mesh(Cylinder[0:5, -5:5], None, g, device=device)\n",
    "\n",
    "    dist = 1.0 / (2.0 * PI) ** 1.5 * torch.exp(-0.5 * (mesh.R**2 + mesh.Z**2))\n",
    "\n",
    "    density = torch.sum(dist * 2.0 * PI * mesh.dx[0] * mesh.dx[1] * mesh.R)\n",
    "    dist /= density\n",
    "\n",
    "    rfp_rz = RFP_RZ(mesh, dist, 0.0001, 10)\n",
    "    rfp_rz.run(no_update=True)\n",
    "    print(f\"Tested grid: {g}\")\n",
    "    rfp_rz.timer.display()\n",
    "    rfp_rz.timer.reset()"
   ]
  }
 ],
 "metadata": {
  "kernelspec": {
   "display_name": ".venv",
   "language": "python",
   "name": "python3"
  },
  "language_info": {
   "codemirror_mode": {
    "name": "ipython",
    "version": 3
   },
   "file_extension": ".py",
   "mimetype": "text/x-python",
   "name": "python",
   "nbconvert_exporter": "python",
   "pygments_lexer": "ipython3",
   "version": "3.10.10"
  },
  "orig_nbformat": 4
 },
 "nbformat": 4,
 "nbformat_minor": 2
}
