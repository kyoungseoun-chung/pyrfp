{
 "cells": [
  {
   "attachments": {},
   "cell_type": "markdown",
   "metadata": {},
   "source": [
    "# The Rosenbluth-Fokker-Planck equation\n",
    "\n",
    "- Import all relevant modules"
   ]
  },
  {
   "cell_type": "code",
   "execution_count": 1,
   "metadata": {},
   "outputs": [],
   "source": [
    "import torch\n",
    "from pyapes.geometry import Cylinder\n",
    "from pyapes.mesh import Mesh\n",
    "from pyrfp.simulators.rfp import RFP_RZ\n",
    "from pyrfp.training_data import RosenbluthPotentials_RZ\n",
    "from pymytools.constants import PI\n"
   ]
  },
  {
   "attachments": {},
   "cell_type": "markdown",
   "metadata": {},
   "source": [
    "- Set some parameters to be used later"
   ]
  },
  {
   "cell_type": "code",
   "execution_count": 2,
   "metadata": {},
   "outputs": [],
   "source": [
    "grids = [[32, 64], [64, 128], [128, 256], [256, 512]]"
   ]
  },
  {
   "attachments": {},
   "cell_type": "markdown",
   "metadata": {},
   "source": [
    "- Solver accuracy at different grids"
   ]
  },
  {
   "cell_type": "code",
   "execution_count": 8,
   "metadata": {},
   "outputs": [
    {
     "name": "stdout",
     "output_type": "stream",
     "text": [
      "Grid: [32, 64], H_norm: 3.06e-01, G_norm: 1.52e-01\n"
     ]
    },
    {
     "data": {
      "text/html": [
       "<pre style=\"white-space:pre;overflow-x:auto;line-height:normal;font-family:Menlo,'DejaVu Sans Mono',consolas,'Courier New',monospace\"><span style=\"font-style: italic\">             Timer Report             </span>\n",
       "┏━━━━━━━━┳━━━━━━━━━━━━━━━━━━┳━━━━━━━━┓\n",
       "┃<span style=\"font-weight: bold\">  Name  </span>┃<span style=\"font-weight: bold\"> Elapsed time [s] </span>┃<span style=\"font-weight: bold\"> #Calls </span>┃\n",
       "┡━━━━━━━━╇━━━━━━━━━━━━━━━━━━╇━━━━━━━━┩\n",
       "│<span style=\"color: #008080; text-decoration-color: #008080\">  H_bc  </span>│<span style=\"color: #008000; text-decoration-color: #008000\">     0.01370      </span>│<span style=\"color: #800080; text-decoration-color: #800080\">   1    </span>│\n",
       "│<span style=\"color: #008080; text-decoration-color: #008080\"> H_pot  </span>│<span style=\"color: #008000; text-decoration-color: #008000\">     0.04337      </span>│<span style=\"color: #800080; text-decoration-color: #800080\">   1    </span>│\n",
       "│<span style=\"color: #008080; text-decoration-color: #008080\">  G_bc  </span>│<span style=\"color: #008000; text-decoration-color: #008000\">     0.01055      </span>│<span style=\"color: #800080; text-decoration-color: #800080\">   1    </span>│\n",
       "│<span style=\"color: #008080; text-decoration-color: #008080\"> G_pot  </span>│<span style=\"color: #008000; text-decoration-color: #008000\">     0.04430      </span>│<span style=\"color: #800080; text-decoration-color: #800080\">   1    </span>│\n",
       "│<span style=\"color: #008080; text-decoration-color: #008080\"> aH_pot </span>│<span style=\"color: #008000; text-decoration-color: #008000\">     0.11900      </span>│<span style=\"color: #800080; text-decoration-color: #800080\">   1    </span>│\n",
       "│<span style=\"color: #008080; text-decoration-color: #008080\"> aG_pot </span>│<span style=\"color: #008000; text-decoration-color: #008000\">     0.11784      </span>│<span style=\"color: #800080; text-decoration-color: #800080\">   1    </span>│\n",
       "└────────┴──────────────────┴────────┘\n",
       "</pre>\n"
      ],
      "text/plain": [
       "\u001b[3m             Timer Report             \u001b[0m\n",
       "┏━━━━━━━━┳━━━━━━━━━━━━━━━━━━┳━━━━━━━━┓\n",
       "┃\u001b[1m \u001b[0m\u001b[1m Name \u001b[0m\u001b[1m \u001b[0m┃\u001b[1m \u001b[0m\u001b[1mElapsed time [s]\u001b[0m\u001b[1m \u001b[0m┃\u001b[1m \u001b[0m\u001b[1m#Calls\u001b[0m\u001b[1m \u001b[0m┃\n",
       "┡━━━━━━━━╇━━━━━━━━━━━━━━━━━━╇━━━━━━━━┩\n",
       "│\u001b[36m \u001b[0m\u001b[36m H_bc \u001b[0m\u001b[36m \u001b[0m│\u001b[32m \u001b[0m\u001b[32m    0.01370     \u001b[0m\u001b[32m \u001b[0m│\u001b[35m \u001b[0m\u001b[35m  1   \u001b[0m\u001b[35m \u001b[0m│\n",
       "│\u001b[36m \u001b[0m\u001b[36mH_pot \u001b[0m\u001b[36m \u001b[0m│\u001b[32m \u001b[0m\u001b[32m    0.04337     \u001b[0m\u001b[32m \u001b[0m│\u001b[35m \u001b[0m\u001b[35m  1   \u001b[0m\u001b[35m \u001b[0m│\n",
       "│\u001b[36m \u001b[0m\u001b[36m G_bc \u001b[0m\u001b[36m \u001b[0m│\u001b[32m \u001b[0m\u001b[32m    0.01055     \u001b[0m\u001b[32m \u001b[0m│\u001b[35m \u001b[0m\u001b[35m  1   \u001b[0m\u001b[35m \u001b[0m│\n",
       "│\u001b[36m \u001b[0m\u001b[36mG_pot \u001b[0m\u001b[36m \u001b[0m│\u001b[32m \u001b[0m\u001b[32m    0.04430     \u001b[0m\u001b[32m \u001b[0m│\u001b[35m \u001b[0m\u001b[35m  1   \u001b[0m\u001b[35m \u001b[0m│\n",
       "│\u001b[36m \u001b[0m\u001b[36maH_pot\u001b[0m\u001b[36m \u001b[0m│\u001b[32m \u001b[0m\u001b[32m    0.11900     \u001b[0m\u001b[32m \u001b[0m│\u001b[35m \u001b[0m\u001b[35m  1   \u001b[0m\u001b[35m \u001b[0m│\n",
       "│\u001b[36m \u001b[0m\u001b[36maG_pot\u001b[0m\u001b[36m \u001b[0m│\u001b[32m \u001b[0m\u001b[32m    0.11784     \u001b[0m\u001b[32m \u001b[0m│\u001b[35m \u001b[0m\u001b[35m  1   \u001b[0m\u001b[35m \u001b[0m│\n",
       "└────────┴──────────────────┴────────┘\n"
      ]
     },
     "metadata": {},
     "output_type": "display_data"
    },
    {
     "name": "stdout",
     "output_type": "stream",
     "text": [
      "Grid: [64, 128], H_norm: 1.69e-01, G_norm: 7.39e-02\n"
     ]
    },
    {
     "data": {
      "text/html": [
       "<pre style=\"white-space:pre;overflow-x:auto;line-height:normal;font-family:Menlo,'DejaVu Sans Mono',consolas,'Courier New',monospace\"><span style=\"font-style: italic\">             Timer Report             </span>\n",
       "┏━━━━━━━━┳━━━━━━━━━━━━━━━━━━┳━━━━━━━━┓\n",
       "┃<span style=\"font-weight: bold\">  Name  </span>┃<span style=\"font-weight: bold\"> Elapsed time [s] </span>┃<span style=\"font-weight: bold\"> #Calls </span>┃\n",
       "┡━━━━━━━━╇━━━━━━━━━━━━━━━━━━╇━━━━━━━━┩\n",
       "│<span style=\"color: #008080; text-decoration-color: #008080\">  H_bc  </span>│<span style=\"color: #008000; text-decoration-color: #008000\">     0.06455      </span>│<span style=\"color: #800080; text-decoration-color: #800080\">   1    </span>│\n",
       "│<span style=\"color: #008080; text-decoration-color: #008080\"> H_pot  </span>│<span style=\"color: #008000; text-decoration-color: #008000\">     0.18856      </span>│<span style=\"color: #800080; text-decoration-color: #800080\">   1    </span>│\n",
       "│<span style=\"color: #008080; text-decoration-color: #008080\">  G_bc  </span>│<span style=\"color: #008000; text-decoration-color: #008000\">     0.05779      </span>│<span style=\"color: #800080; text-decoration-color: #800080\">   1    </span>│\n",
       "│<span style=\"color: #008080; text-decoration-color: #008080\"> G_pot  </span>│<span style=\"color: #008000; text-decoration-color: #008000\">     0.19236      </span>│<span style=\"color: #800080; text-decoration-color: #800080\">   1    </span>│\n",
       "│<span style=\"color: #008080; text-decoration-color: #008080\"> aH_pot </span>│<span style=\"color: #008000; text-decoration-color: #008000\">     1.23168      </span>│<span style=\"color: #800080; text-decoration-color: #800080\">   1    </span>│\n",
       "│<span style=\"color: #008080; text-decoration-color: #008080\"> aG_pot </span>│<span style=\"color: #008000; text-decoration-color: #008000\">     1.21660      </span>│<span style=\"color: #800080; text-decoration-color: #800080\">   1    </span>│\n",
       "└────────┴──────────────────┴────────┘\n",
       "</pre>\n"
      ],
      "text/plain": [
       "\u001b[3m             Timer Report             \u001b[0m\n",
       "┏━━━━━━━━┳━━━━━━━━━━━━━━━━━━┳━━━━━━━━┓\n",
       "┃\u001b[1m \u001b[0m\u001b[1m Name \u001b[0m\u001b[1m \u001b[0m┃\u001b[1m \u001b[0m\u001b[1mElapsed time [s]\u001b[0m\u001b[1m \u001b[0m┃\u001b[1m \u001b[0m\u001b[1m#Calls\u001b[0m\u001b[1m \u001b[0m┃\n",
       "┡━━━━━━━━╇━━━━━━━━━━━━━━━━━━╇━━━━━━━━┩\n",
       "│\u001b[36m \u001b[0m\u001b[36m H_bc \u001b[0m\u001b[36m \u001b[0m│\u001b[32m \u001b[0m\u001b[32m    0.06455     \u001b[0m\u001b[32m \u001b[0m│\u001b[35m \u001b[0m\u001b[35m  1   \u001b[0m\u001b[35m \u001b[0m│\n",
       "│\u001b[36m \u001b[0m\u001b[36mH_pot \u001b[0m\u001b[36m \u001b[0m│\u001b[32m \u001b[0m\u001b[32m    0.18856     \u001b[0m\u001b[32m \u001b[0m│\u001b[35m \u001b[0m\u001b[35m  1   \u001b[0m\u001b[35m \u001b[0m│\n",
       "│\u001b[36m \u001b[0m\u001b[36m G_bc \u001b[0m\u001b[36m \u001b[0m│\u001b[32m \u001b[0m\u001b[32m    0.05779     \u001b[0m\u001b[32m \u001b[0m│\u001b[35m \u001b[0m\u001b[35m  1   \u001b[0m\u001b[35m \u001b[0m│\n",
       "│\u001b[36m \u001b[0m\u001b[36mG_pot \u001b[0m\u001b[36m \u001b[0m│\u001b[32m \u001b[0m\u001b[32m    0.19236     \u001b[0m\u001b[32m \u001b[0m│\u001b[35m \u001b[0m\u001b[35m  1   \u001b[0m\u001b[35m \u001b[0m│\n",
       "│\u001b[36m \u001b[0m\u001b[36maH_pot\u001b[0m\u001b[36m \u001b[0m│\u001b[32m \u001b[0m\u001b[32m    1.23168     \u001b[0m\u001b[32m \u001b[0m│\u001b[35m \u001b[0m\u001b[35m  1   \u001b[0m\u001b[35m \u001b[0m│\n",
       "│\u001b[36m \u001b[0m\u001b[36maG_pot\u001b[0m\u001b[36m \u001b[0m│\u001b[32m \u001b[0m\u001b[32m    1.21660     \u001b[0m\u001b[32m \u001b[0m│\u001b[35m \u001b[0m\u001b[35m  1   \u001b[0m\u001b[35m \u001b[0m│\n",
       "└────────┴──────────────────┴────────┘\n"
      ]
     },
     "metadata": {},
     "output_type": "display_data"
    },
    {
     "name": "stdout",
     "output_type": "stream",
     "text": [
      "Grid: [128, 256], H_norm: 9.27e-02, G_norm: 3.63e-02\n"
     ]
    },
    {
     "data": {
      "text/html": [
       "<pre style=\"white-space:pre;overflow-x:auto;line-height:normal;font-family:Menlo,'DejaVu Sans Mono',consolas,'Courier New',monospace\"><span style=\"font-style: italic\">             Timer Report             </span>\n",
       "┏━━━━━━━━┳━━━━━━━━━━━━━━━━━━┳━━━━━━━━┓\n",
       "┃<span style=\"font-weight: bold\">  Name  </span>┃<span style=\"font-weight: bold\"> Elapsed time [s] </span>┃<span style=\"font-weight: bold\"> #Calls </span>┃\n",
       "┡━━━━━━━━╇━━━━━━━━━━━━━━━━━━╇━━━━━━━━┩\n",
       "│<span style=\"color: #008080; text-decoration-color: #008080\">  H_bc  </span>│<span style=\"color: #008000; text-decoration-color: #008000\">     0.44978      </span>│<span style=\"color: #800080; text-decoration-color: #800080\">   1    </span>│\n",
       "│<span style=\"color: #008080; text-decoration-color: #008080\"> H_pot  </span>│<span style=\"color: #008000; text-decoration-color: #008000\">     1.15529      </span>│<span style=\"color: #800080; text-decoration-color: #800080\">   1    </span>│\n",
       "│<span style=\"color: #008080; text-decoration-color: #008080\">  G_bc  </span>│<span style=\"color: #008000; text-decoration-color: #008000\">     0.43746      </span>│<span style=\"color: #800080; text-decoration-color: #800080\">   1    </span>│\n",
       "│<span style=\"color: #008080; text-decoration-color: #008080\"> G_pot  </span>│<span style=\"color: #008000; text-decoration-color: #008000\">     0.84242      </span>│<span style=\"color: #800080; text-decoration-color: #800080\">   1    </span>│\n",
       "│<span style=\"color: #008080; text-decoration-color: #008080\"> aH_pot </span>│<span style=\"color: #008000; text-decoration-color: #008000\">     17.33314     </span>│<span style=\"color: #800080; text-decoration-color: #800080\">   1    </span>│\n",
       "│<span style=\"color: #008080; text-decoration-color: #008080\"> aG_pot </span>│<span style=\"color: #008000; text-decoration-color: #008000\">     16.68290     </span>│<span style=\"color: #800080; text-decoration-color: #800080\">   1    </span>│\n",
       "└────────┴──────────────────┴────────┘\n",
       "</pre>\n"
      ],
      "text/plain": [
       "\u001b[3m             Timer Report             \u001b[0m\n",
       "┏━━━━━━━━┳━━━━━━━━━━━━━━━━━━┳━━━━━━━━┓\n",
       "┃\u001b[1m \u001b[0m\u001b[1m Name \u001b[0m\u001b[1m \u001b[0m┃\u001b[1m \u001b[0m\u001b[1mElapsed time [s]\u001b[0m\u001b[1m \u001b[0m┃\u001b[1m \u001b[0m\u001b[1m#Calls\u001b[0m\u001b[1m \u001b[0m┃\n",
       "┡━━━━━━━━╇━━━━━━━━━━━━━━━━━━╇━━━━━━━━┩\n",
       "│\u001b[36m \u001b[0m\u001b[36m H_bc \u001b[0m\u001b[36m \u001b[0m│\u001b[32m \u001b[0m\u001b[32m    0.44978     \u001b[0m\u001b[32m \u001b[0m│\u001b[35m \u001b[0m\u001b[35m  1   \u001b[0m\u001b[35m \u001b[0m│\n",
       "│\u001b[36m \u001b[0m\u001b[36mH_pot \u001b[0m\u001b[36m \u001b[0m│\u001b[32m \u001b[0m\u001b[32m    1.15529     \u001b[0m\u001b[32m \u001b[0m│\u001b[35m \u001b[0m\u001b[35m  1   \u001b[0m\u001b[35m \u001b[0m│\n",
       "│\u001b[36m \u001b[0m\u001b[36m G_bc \u001b[0m\u001b[36m \u001b[0m│\u001b[32m \u001b[0m\u001b[32m    0.43746     \u001b[0m\u001b[32m \u001b[0m│\u001b[35m \u001b[0m\u001b[35m  1   \u001b[0m\u001b[35m \u001b[0m│\n",
       "│\u001b[36m \u001b[0m\u001b[36mG_pot \u001b[0m\u001b[36m \u001b[0m│\u001b[32m \u001b[0m\u001b[32m    0.84242     \u001b[0m\u001b[32m \u001b[0m│\u001b[35m \u001b[0m\u001b[35m  1   \u001b[0m\u001b[35m \u001b[0m│\n",
       "│\u001b[36m \u001b[0m\u001b[36maH_pot\u001b[0m\u001b[36m \u001b[0m│\u001b[32m \u001b[0m\u001b[32m    17.33314    \u001b[0m\u001b[32m \u001b[0m│\u001b[35m \u001b[0m\u001b[35m  1   \u001b[0m\u001b[35m \u001b[0m│\n",
       "│\u001b[36m \u001b[0m\u001b[36maG_pot\u001b[0m\u001b[36m \u001b[0m│\u001b[32m \u001b[0m\u001b[32m    16.68290    \u001b[0m\u001b[32m \u001b[0m│\u001b[35m \u001b[0m\u001b[35m  1   \u001b[0m\u001b[35m \u001b[0m│\n",
       "└────────┴──────────────────┴────────┘\n"
      ]
     },
     "metadata": {},
     "output_type": "display_data"
    },
    {
     "name": "stdout",
     "output_type": "stream",
     "text": [
      "Grid: [256, 512], H_norm: 5.05e-02, G_norm: 1.80e-02\n"
     ]
    },
    {
     "data": {
      "text/html": [
       "<pre style=\"white-space:pre;overflow-x:auto;line-height:normal;font-family:Menlo,'DejaVu Sans Mono',consolas,'Courier New',monospace\"><span style=\"font-style: italic\">             Timer Report             </span>\n",
       "┏━━━━━━━━┳━━━━━━━━━━━━━━━━━━┳━━━━━━━━┓\n",
       "┃<span style=\"font-weight: bold\">  Name  </span>┃<span style=\"font-weight: bold\"> Elapsed time [s] </span>┃<span style=\"font-weight: bold\"> #Calls </span>┃\n",
       "┡━━━━━━━━╇━━━━━━━━━━━━━━━━━━╇━━━━━━━━┩\n",
       "│<span style=\"color: #008080; text-decoration-color: #008080\">  H_bc  </span>│<span style=\"color: #008000; text-decoration-color: #008000\">     8.29060      </span>│<span style=\"color: #800080; text-decoration-color: #800080\">   1    </span>│\n",
       "│<span style=\"color: #008080; text-decoration-color: #008080\"> H_pot  </span>│<span style=\"color: #008000; text-decoration-color: #008000\">     7.54713      </span>│<span style=\"color: #800080; text-decoration-color: #800080\">   1    </span>│\n",
       "│<span style=\"color: #008080; text-decoration-color: #008080\">  G_bc  </span>│<span style=\"color: #008000; text-decoration-color: #008000\">     6.20875      </span>│<span style=\"color: #800080; text-decoration-color: #800080\">   1    </span>│\n",
       "│<span style=\"color: #008080; text-decoration-color: #008080\"> G_pot  </span>│<span style=\"color: #008000; text-decoration-color: #008000\">     7.08256      </span>│<span style=\"color: #800080; text-decoration-color: #800080\">   1    </span>│\n",
       "│<span style=\"color: #008080; text-decoration-color: #008080\"> aH_pot </span>│<span style=\"color: #008000; text-decoration-color: #008000\">    243.29937     </span>│<span style=\"color: #800080; text-decoration-color: #800080\">   1    </span>│\n",
       "│<span style=\"color: #008080; text-decoration-color: #008080\"> aG_pot </span>│<span style=\"color: #008000; text-decoration-color: #008000\">    239.40632     </span>│<span style=\"color: #800080; text-decoration-color: #800080\">   1    </span>│\n",
       "└────────┴──────────────────┴────────┘\n",
       "</pre>\n"
      ],
      "text/plain": [
       "\u001b[3m             Timer Report             \u001b[0m\n",
       "┏━━━━━━━━┳━━━━━━━━━━━━━━━━━━┳━━━━━━━━┓\n",
       "┃\u001b[1m \u001b[0m\u001b[1m Name \u001b[0m\u001b[1m \u001b[0m┃\u001b[1m \u001b[0m\u001b[1mElapsed time [s]\u001b[0m\u001b[1m \u001b[0m┃\u001b[1m \u001b[0m\u001b[1m#Calls\u001b[0m\u001b[1m \u001b[0m┃\n",
       "┡━━━━━━━━╇━━━━━━━━━━━━━━━━━━╇━━━━━━━━┩\n",
       "│\u001b[36m \u001b[0m\u001b[36m H_bc \u001b[0m\u001b[36m \u001b[0m│\u001b[32m \u001b[0m\u001b[32m    8.29060     \u001b[0m\u001b[32m \u001b[0m│\u001b[35m \u001b[0m\u001b[35m  1   \u001b[0m\u001b[35m \u001b[0m│\n",
       "│\u001b[36m \u001b[0m\u001b[36mH_pot \u001b[0m\u001b[36m \u001b[0m│\u001b[32m \u001b[0m\u001b[32m    7.54713     \u001b[0m\u001b[32m \u001b[0m│\u001b[35m \u001b[0m\u001b[35m  1   \u001b[0m\u001b[35m \u001b[0m│\n",
       "│\u001b[36m \u001b[0m\u001b[36m G_bc \u001b[0m\u001b[36m \u001b[0m│\u001b[32m \u001b[0m\u001b[32m    6.20875     \u001b[0m\u001b[32m \u001b[0m│\u001b[35m \u001b[0m\u001b[35m  1   \u001b[0m\u001b[35m \u001b[0m│\n",
       "│\u001b[36m \u001b[0m\u001b[36mG_pot \u001b[0m\u001b[36m \u001b[0m│\u001b[32m \u001b[0m\u001b[32m    7.08256     \u001b[0m\u001b[32m \u001b[0m│\u001b[35m \u001b[0m\u001b[35m  1   \u001b[0m\u001b[35m \u001b[0m│\n",
       "│\u001b[36m \u001b[0m\u001b[36maH_pot\u001b[0m\u001b[36m \u001b[0m│\u001b[32m \u001b[0m\u001b[32m   243.29937    \u001b[0m\u001b[32m \u001b[0m│\u001b[35m \u001b[0m\u001b[35m  1   \u001b[0m\u001b[35m \u001b[0m│\n",
       "│\u001b[36m \u001b[0m\u001b[36maG_pot\u001b[0m\u001b[36m \u001b[0m│\u001b[32m \u001b[0m\u001b[32m   239.40632    \u001b[0m\u001b[32m \u001b[0m│\u001b[35m \u001b[0m\u001b[35m  1   \u001b[0m\u001b[35m \u001b[0m│\n",
       "└────────┴──────────────────┴────────┘\n"
      ]
     },
     "metadata": {},
     "output_type": "display_data"
    }
   ],
   "source": [
    "for g in grids:\n",
    "    mesh = Mesh(Cylinder[0:5, -5:5], None, g, device=\"cpu\")\n",
    "    dist = 1.0 / (2.0 * PI) ** 1.5 * torch.exp(-0.5 * (mesh.R**2 + mesh.Z**2))\n",
    "\n",
    "    density = torch.sum(dist * 2.0 * PI * mesh.dx[0] * mesh.dx[1] * mesh.R)\n",
    "    dist /= density\n",
    "    \n",
    "    rp_rz = RosenbluthPotentials_RZ(mesh, solver_config={\n",
    "            \"method\": \"bicgstab\",\n",
    "            \"tol\": 1e-6,\n",
    "            \"max_it\": 1000,\n",
    "            \"report\": False,\n",
    "        })\n",
    "    \n",
    "    res_sol = rp_rz.from_pdf(dist, disp=False)\n",
    "    res_analytic = rp_rz.from_analytic(dist, disp=False, low_mem=True)\n",
    "    \n",
    "    assert res_sol[\"timer\"] is not None\n",
    "    assert res_analytic[\"timer\"] is not None\n",
    "    \n",
    "    assert res_sol[\"pots\"] is not None\n",
    "    assert res_analytic[\"pots\"] is not None\n",
    "    \n",
    "    H_sol = res_sol[\"pots\"][\"H\"]\n",
    "    G_sol = res_sol[\"pots\"][\"G\"]\n",
    "    \n",
    "    H_analytic = res_analytic[\"pots\"][\"H\"]\n",
    "    G_analytic = res_analytic[\"pots\"][\"G\"]\n",
    "    \n",
    "    H_norm = torch.linalg.norm((H_sol - H_analytic))\n",
    "    G_norm = torch.linalg.norm((G_sol - G_analytic))\n",
    "\n",
    "    print(f\"Grid: {g}, H_norm: {H_norm:.2e}, G_norm: {G_norm:.2e}\")\n",
    "    res_sol[\"timer\"].display()\n",
    "    \n",
    "    rp_rz.timer.reset()\n",
    "\n"
   ]
  },
  {
   "attachments": {},
   "cell_type": "markdown",
   "metadata": {},
   "source": [
    "- Computational cost with different grid sized"
   ]
  },
  {
   "cell_type": "code",
   "execution_count": 9,
   "metadata": {},
   "outputs": [
    {
     "name": "stdout",
     "output_type": "stream",
     "text": [
      "Tested grid: [32, 64]\n"
     ]
    },
    {
     "data": {
      "text/html": [
       "<pre style=\"white-space:pre;overflow-x:auto;line-height:normal;font-family:Menlo,'DejaVu Sans Mono',consolas,'Courier New',monospace\"><span style=\"font-style: italic\">            Timer Report             </span>\n",
       "┏━━━━━━━┳━━━━━━━━━━━━━━━━━━┳━━━━━━━━┓\n",
       "┃<span style=\"font-weight: bold\"> Name  </span>┃<span style=\"font-weight: bold\"> Elapsed time [s] </span>┃<span style=\"font-weight: bold\"> #Calls </span>┃\n",
       "┡━━━━━━━╇━━━━━━━━━━━━━━━━━━╇━━━━━━━━┩\n",
       "│<span style=\"color: #008080; text-decoration-color: #008080\"> H_bc  </span>│<span style=\"color: #008000; text-decoration-color: #008000\">     0.08483      </span>│<span style=\"color: #800080; text-decoration-color: #800080\">   10   </span>│\n",
       "│<span style=\"color: #008080; text-decoration-color: #008080\"> H_sol </span>│<span style=\"color: #008000; text-decoration-color: #008000\">     0.37782      </span>│<span style=\"color: #800080; text-decoration-color: #800080\">   10   </span>│\n",
       "│<span style=\"color: #008080; text-decoration-color: #008080\"> G_bc  </span>│<span style=\"color: #008000; text-decoration-color: #008000\">     0.08501      </span>│<span style=\"color: #800080; text-decoration-color: #800080\">   10   </span>│\n",
       "│<span style=\"color: #008080; text-decoration-color: #008080\"> G_sol </span>│<span style=\"color: #008000; text-decoration-color: #008000\">     0.39632      </span>│<span style=\"color: #800080; text-decoration-color: #800080\">   10   </span>│\n",
       "└───────┴──────────────────┴────────┘\n",
       "</pre>\n"
      ],
      "text/plain": [
       "\u001b[3m            Timer Report             \u001b[0m\n",
       "┏━━━━━━━┳━━━━━━━━━━━━━━━━━━┳━━━━━━━━┓\n",
       "┃\u001b[1m \u001b[0m\u001b[1mName \u001b[0m\u001b[1m \u001b[0m┃\u001b[1m \u001b[0m\u001b[1mElapsed time [s]\u001b[0m\u001b[1m \u001b[0m┃\u001b[1m \u001b[0m\u001b[1m#Calls\u001b[0m\u001b[1m \u001b[0m┃\n",
       "┡━━━━━━━╇━━━━━━━━━━━━━━━━━━╇━━━━━━━━┩\n",
       "│\u001b[36m \u001b[0m\u001b[36mH_bc \u001b[0m\u001b[36m \u001b[0m│\u001b[32m \u001b[0m\u001b[32m    0.08483     \u001b[0m\u001b[32m \u001b[0m│\u001b[35m \u001b[0m\u001b[35m  10  \u001b[0m\u001b[35m \u001b[0m│\n",
       "│\u001b[36m \u001b[0m\u001b[36mH_sol\u001b[0m\u001b[36m \u001b[0m│\u001b[32m \u001b[0m\u001b[32m    0.37782     \u001b[0m\u001b[32m \u001b[0m│\u001b[35m \u001b[0m\u001b[35m  10  \u001b[0m\u001b[35m \u001b[0m│\n",
       "│\u001b[36m \u001b[0m\u001b[36mG_bc \u001b[0m\u001b[36m \u001b[0m│\u001b[32m \u001b[0m\u001b[32m    0.08501     \u001b[0m\u001b[32m \u001b[0m│\u001b[35m \u001b[0m\u001b[35m  10  \u001b[0m\u001b[35m \u001b[0m│\n",
       "│\u001b[36m \u001b[0m\u001b[36mG_sol\u001b[0m\u001b[36m \u001b[0m│\u001b[32m \u001b[0m\u001b[32m    0.39632     \u001b[0m\u001b[32m \u001b[0m│\u001b[35m \u001b[0m\u001b[35m  10  \u001b[0m\u001b[35m \u001b[0m│\n",
       "└───────┴──────────────────┴────────┘\n"
      ]
     },
     "metadata": {},
     "output_type": "display_data"
    },
    {
     "name": "stdout",
     "output_type": "stream",
     "text": [
      "Tested grid: [64, 128]\n"
     ]
    },
    {
     "data": {
      "text/html": [
       "<pre style=\"white-space:pre;overflow-x:auto;line-height:normal;font-family:Menlo,'DejaVu Sans Mono',consolas,'Courier New',monospace\"><span style=\"font-style: italic\">            Timer Report             </span>\n",
       "┏━━━━━━━┳━━━━━━━━━━━━━━━━━━┳━━━━━━━━┓\n",
       "┃<span style=\"font-weight: bold\"> Name  </span>┃<span style=\"font-weight: bold\"> Elapsed time [s] </span>┃<span style=\"font-weight: bold\"> #Calls </span>┃\n",
       "┡━━━━━━━╇━━━━━━━━━━━━━━━━━━╇━━━━━━━━┩\n",
       "│<span style=\"color: #008080; text-decoration-color: #008080\"> H_bc  </span>│<span style=\"color: #008000; text-decoration-color: #008000\">     0.58919      </span>│<span style=\"color: #800080; text-decoration-color: #800080\">   10   </span>│\n",
       "│<span style=\"color: #008080; text-decoration-color: #008080\"> H_sol </span>│<span style=\"color: #008000; text-decoration-color: #008000\">     1.41298      </span>│<span style=\"color: #800080; text-decoration-color: #800080\">   10   </span>│\n",
       "│<span style=\"color: #008080; text-decoration-color: #008080\"> G_bc  </span>│<span style=\"color: #008000; text-decoration-color: #008000\">     0.57922      </span>│<span style=\"color: #800080; text-decoration-color: #800080\">   10   </span>│\n",
       "│<span style=\"color: #008080; text-decoration-color: #008080\"> G_sol </span>│<span style=\"color: #008000; text-decoration-color: #008000\">     1.62845      </span>│<span style=\"color: #800080; text-decoration-color: #800080\">   10   </span>│\n",
       "└───────┴──────────────────┴────────┘\n",
       "</pre>\n"
      ],
      "text/plain": [
       "\u001b[3m            Timer Report             \u001b[0m\n",
       "┏━━━━━━━┳━━━━━━━━━━━━━━━━━━┳━━━━━━━━┓\n",
       "┃\u001b[1m \u001b[0m\u001b[1mName \u001b[0m\u001b[1m \u001b[0m┃\u001b[1m \u001b[0m\u001b[1mElapsed time [s]\u001b[0m\u001b[1m \u001b[0m┃\u001b[1m \u001b[0m\u001b[1m#Calls\u001b[0m\u001b[1m \u001b[0m┃\n",
       "┡━━━━━━━╇━━━━━━━━━━━━━━━━━━╇━━━━━━━━┩\n",
       "│\u001b[36m \u001b[0m\u001b[36mH_bc \u001b[0m\u001b[36m \u001b[0m│\u001b[32m \u001b[0m\u001b[32m    0.58919     \u001b[0m\u001b[32m \u001b[0m│\u001b[35m \u001b[0m\u001b[35m  10  \u001b[0m\u001b[35m \u001b[0m│\n",
       "│\u001b[36m \u001b[0m\u001b[36mH_sol\u001b[0m\u001b[36m \u001b[0m│\u001b[32m \u001b[0m\u001b[32m    1.41298     \u001b[0m\u001b[32m \u001b[0m│\u001b[35m \u001b[0m\u001b[35m  10  \u001b[0m\u001b[35m \u001b[0m│\n",
       "│\u001b[36m \u001b[0m\u001b[36mG_bc \u001b[0m\u001b[36m \u001b[0m│\u001b[32m \u001b[0m\u001b[32m    0.57922     \u001b[0m\u001b[32m \u001b[0m│\u001b[35m \u001b[0m\u001b[35m  10  \u001b[0m\u001b[35m \u001b[0m│\n",
       "│\u001b[36m \u001b[0m\u001b[36mG_sol\u001b[0m\u001b[36m \u001b[0m│\u001b[32m \u001b[0m\u001b[32m    1.62845     \u001b[0m\u001b[32m \u001b[0m│\u001b[35m \u001b[0m\u001b[35m  10  \u001b[0m\u001b[35m \u001b[0m│\n",
       "└───────┴──────────────────┴────────┘\n"
      ]
     },
     "metadata": {},
     "output_type": "display_data"
    },
    {
     "name": "stdout",
     "output_type": "stream",
     "text": [
      "Tested grid: [128, 256]\n"
     ]
    },
    {
     "data": {
      "text/html": [
       "<pre style=\"white-space:pre;overflow-x:auto;line-height:normal;font-family:Menlo,'DejaVu Sans Mono',consolas,'Courier New',monospace\"><span style=\"font-style: italic\">            Timer Report             </span>\n",
       "┏━━━━━━━┳━━━━━━━━━━━━━━━━━━┳━━━━━━━━┓\n",
       "┃<span style=\"font-weight: bold\"> Name  </span>┃<span style=\"font-weight: bold\"> Elapsed time [s] </span>┃<span style=\"font-weight: bold\"> #Calls </span>┃\n",
       "┡━━━━━━━╇━━━━━━━━━━━━━━━━━━╇━━━━━━━━┩\n",
       "│<span style=\"color: #008080; text-decoration-color: #008080\"> H_bc  </span>│<span style=\"color: #008000; text-decoration-color: #008000\">     4.18639      </span>│<span style=\"color: #800080; text-decoration-color: #800080\">   10   </span>│\n",
       "│<span style=\"color: #008080; text-decoration-color: #008080\"> H_sol </span>│<span style=\"color: #008000; text-decoration-color: #008000\">     8.58235      </span>│<span style=\"color: #800080; text-decoration-color: #800080\">   10   </span>│\n",
       "│<span style=\"color: #008080; text-decoration-color: #008080\"> G_bc  </span>│<span style=\"color: #008000; text-decoration-color: #008000\">     4.10070      </span>│<span style=\"color: #800080; text-decoration-color: #800080\">   10   </span>│\n",
       "│<span style=\"color: #008080; text-decoration-color: #008080\"> G_sol </span>│<span style=\"color: #008000; text-decoration-color: #008000\">     8.45804      </span>│<span style=\"color: #800080; text-decoration-color: #800080\">   10   </span>│\n",
       "└───────┴──────────────────┴────────┘\n",
       "</pre>\n"
      ],
      "text/plain": [
       "\u001b[3m            Timer Report             \u001b[0m\n",
       "┏━━━━━━━┳━━━━━━━━━━━━━━━━━━┳━━━━━━━━┓\n",
       "┃\u001b[1m \u001b[0m\u001b[1mName \u001b[0m\u001b[1m \u001b[0m┃\u001b[1m \u001b[0m\u001b[1mElapsed time [s]\u001b[0m\u001b[1m \u001b[0m┃\u001b[1m \u001b[0m\u001b[1m#Calls\u001b[0m\u001b[1m \u001b[0m┃\n",
       "┡━━━━━━━╇━━━━━━━━━━━━━━━━━━╇━━━━━━━━┩\n",
       "│\u001b[36m \u001b[0m\u001b[36mH_bc \u001b[0m\u001b[36m \u001b[0m│\u001b[32m \u001b[0m\u001b[32m    4.18639     \u001b[0m\u001b[32m \u001b[0m│\u001b[35m \u001b[0m\u001b[35m  10  \u001b[0m\u001b[35m \u001b[0m│\n",
       "│\u001b[36m \u001b[0m\u001b[36mH_sol\u001b[0m\u001b[36m \u001b[0m│\u001b[32m \u001b[0m\u001b[32m    8.58235     \u001b[0m\u001b[32m \u001b[0m│\u001b[35m \u001b[0m\u001b[35m  10  \u001b[0m\u001b[35m \u001b[0m│\n",
       "│\u001b[36m \u001b[0m\u001b[36mG_bc \u001b[0m\u001b[36m \u001b[0m│\u001b[32m \u001b[0m\u001b[32m    4.10070     \u001b[0m\u001b[32m \u001b[0m│\u001b[35m \u001b[0m\u001b[35m  10  \u001b[0m\u001b[35m \u001b[0m│\n",
       "│\u001b[36m \u001b[0m\u001b[36mG_sol\u001b[0m\u001b[36m \u001b[0m│\u001b[32m \u001b[0m\u001b[32m    8.45804     \u001b[0m\u001b[32m \u001b[0m│\u001b[35m \u001b[0m\u001b[35m  10  \u001b[0m\u001b[35m \u001b[0m│\n",
       "└───────┴──────────────────┴────────┘\n"
      ]
     },
     "metadata": {},
     "output_type": "display_data"
    },
    {
     "name": "stdout",
     "output_type": "stream",
     "text": [
      "Tested grid: [256, 512]\n"
     ]
    },
    {
     "data": {
      "text/html": [
       "<pre style=\"white-space:pre;overflow-x:auto;line-height:normal;font-family:Menlo,'DejaVu Sans Mono',consolas,'Courier New',monospace\"><span style=\"font-style: italic\">            Timer Report             </span>\n",
       "┏━━━━━━━┳━━━━━━━━━━━━━━━━━━┳━━━━━━━━┓\n",
       "┃<span style=\"font-weight: bold\"> Name  </span>┃<span style=\"font-weight: bold\"> Elapsed time [s] </span>┃<span style=\"font-weight: bold\"> #Calls </span>┃\n",
       "┡━━━━━━━╇━━━━━━━━━━━━━━━━━━╇━━━━━━━━┩\n",
       "│<span style=\"color: #008080; text-decoration-color: #008080\"> H_bc  </span>│<span style=\"color: #008000; text-decoration-color: #008000\">     51.00295     </span>│<span style=\"color: #800080; text-decoration-color: #800080\">   10   </span>│\n",
       "│<span style=\"color: #008080; text-decoration-color: #008080\"> H_sol </span>│<span style=\"color: #008000; text-decoration-color: #008000\">     72.18819     </span>│<span style=\"color: #800080; text-decoration-color: #800080\">   10   </span>│\n",
       "│<span style=\"color: #008080; text-decoration-color: #008080\"> G_bc  </span>│<span style=\"color: #008000; text-decoration-color: #008000\">     44.70981     </span>│<span style=\"color: #800080; text-decoration-color: #800080\">   10   </span>│\n",
       "│<span style=\"color: #008080; text-decoration-color: #008080\"> G_sol </span>│<span style=\"color: #008000; text-decoration-color: #008000\">     66.93341     </span>│<span style=\"color: #800080; text-decoration-color: #800080\">   10   </span>│\n",
       "└───────┴──────────────────┴────────┘\n",
       "</pre>\n"
      ],
      "text/plain": [
       "\u001b[3m            Timer Report             \u001b[0m\n",
       "┏━━━━━━━┳━━━━━━━━━━━━━━━━━━┳━━━━━━━━┓\n",
       "┃\u001b[1m \u001b[0m\u001b[1mName \u001b[0m\u001b[1m \u001b[0m┃\u001b[1m \u001b[0m\u001b[1mElapsed time [s]\u001b[0m\u001b[1m \u001b[0m┃\u001b[1m \u001b[0m\u001b[1m#Calls\u001b[0m\u001b[1m \u001b[0m┃\n",
       "┡━━━━━━━╇━━━━━━━━━━━━━━━━━━╇━━━━━━━━┩\n",
       "│\u001b[36m \u001b[0m\u001b[36mH_bc \u001b[0m\u001b[36m \u001b[0m│\u001b[32m \u001b[0m\u001b[32m    51.00295    \u001b[0m\u001b[32m \u001b[0m│\u001b[35m \u001b[0m\u001b[35m  10  \u001b[0m\u001b[35m \u001b[0m│\n",
       "│\u001b[36m \u001b[0m\u001b[36mH_sol\u001b[0m\u001b[36m \u001b[0m│\u001b[32m \u001b[0m\u001b[32m    72.18819    \u001b[0m\u001b[32m \u001b[0m│\u001b[35m \u001b[0m\u001b[35m  10  \u001b[0m\u001b[35m \u001b[0m│\n",
       "│\u001b[36m \u001b[0m\u001b[36mG_bc \u001b[0m\u001b[36m \u001b[0m│\u001b[32m \u001b[0m\u001b[32m    44.70981    \u001b[0m\u001b[32m \u001b[0m│\u001b[35m \u001b[0m\u001b[35m  10  \u001b[0m\u001b[35m \u001b[0m│\n",
       "│\u001b[36m \u001b[0m\u001b[36mG_sol\u001b[0m\u001b[36m \u001b[0m│\u001b[32m \u001b[0m\u001b[32m    66.93341    \u001b[0m\u001b[32m \u001b[0m│\u001b[35m \u001b[0m\u001b[35m  10  \u001b[0m\u001b[35m \u001b[0m│\n",
       "└───────┴──────────────────┴────────┘\n"
      ]
     },
     "metadata": {},
     "output_type": "display_data"
    }
   ],
   "source": [
    "\n",
    "for g in grids:\n",
    "    mesh = Mesh(Cylinder[0:5, -5:5], None, g, device=\"cpu\")\n",
    "\n",
    "    dist = 1.0 / (2.0 * PI) ** 1.5 * torch.exp(-0.5 * (mesh.R**2 + mesh.Z**2))\n",
    "\n",
    "    density = torch.sum(dist * 2.0 * PI * mesh.dx[0] * mesh.dx[1] * mesh.R)\n",
    "    dist /= density\n",
    "\n",
    "    rfp_rz = RFP_RZ(mesh, dist, 0.0001, 10)\n",
    "    rfp_rz.run(no_update=True)\n",
    "    print(f\"Tested grid: {g} on CPU.\")\n",
    "    rfp_rz.timer.display()\n",
    "    rfp_rz.timer.reset()\n",
    "    \n",
    "# Repeat if cuda is available\n",
    "if torch.cuda.is_available():\n",
    "    for g in grids:\n",
    "        mesh = Mesh(Cylinder[0:5, -5:5], None, g, device=\"cuda\")\n",
    "\n",
    "        dist = 1.0 / (2.0 * PI) ** 1.5 * torch.exp(-0.5 * (mesh.R**2 + mesh.Z**2))\n",
    "\n",
    "        density = torch.sum(dist * 2.0 * PI * mesh.dx[0] * mesh.dx[1] * mesh.R)\n",
    "        dist /= density\n",
    "\n",
    "        rfp_rz = RFP_RZ(mesh, dist, 0.0001, 10)\n",
    "        rfp_rz.run(no_update=True)\n",
    "        print(f\"Tested grid: {g} on CUDA.\")\n",
    "        rfp_rz.timer.display()\n",
    "        rfp_rz.timer.reset()\n"
   ]
  }
 ],
 "metadata": {
  "kernelspec": {
   "display_name": ".venv",
   "language": "python",
   "name": "python3"
  },
  "language_info": {
   "codemirror_mode": {
    "name": "ipython",
    "version": 3
   },
   "file_extension": ".py",
   "mimetype": "text/x-python",
   "name": "python",
   "nbconvert_exporter": "python",
   "pygments_lexer": "ipython3",
   "version": "3.10.10"
  },
  "orig_nbformat": 4
 },
 "nbformat": 4,
 "nbformat_minor": 2
}
