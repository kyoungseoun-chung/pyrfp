{
 "cells": [
  {
   "attachments": {},
   "cell_type": "markdown",
   "metadata": {},
   "source": [
    "# The Rosenbluth-Fokker-Planck equation\n",
    "\n",
    "- Import all relevant modules"
   ]
  },
  {
   "cell_type": "code",
   "execution_count": 1,
   "metadata": {},
   "outputs": [],
   "source": [
    "import torch\n",
    "from pyapes.geometry import Cylinder\n",
    "from pyapes.mesh import Mesh\n",
    "from pyrfp.simulators.rfp import RFP_RZ\n",
    "from pymytools.constants import PI\n"
   ]
  },
  {
   "attachments": {},
   "cell_type": "markdown",
   "metadata": {},
   "source": [
    "- Computational cost with different grid sized"
   ]
  },
  {
   "cell_type": "code",
   "execution_count": 2,
   "metadata": {},
   "outputs": [
    {
     "name": "stdout",
     "output_type": "stream",
     "text": [
      "Tested grid: [32, 64]\n"
     ]
    },
    {
     "data": {
      "text/html": [
       "<pre style=\"white-space:pre;overflow-x:auto;line-height:normal;font-family:Menlo,'DejaVu Sans Mono',consolas,'Courier New',monospace\"><span style=\"font-style: italic\">            Timer Report             </span>\n",
       "┏━━━━━━━┳━━━━━━━━━━━━━━━━━━┳━━━━━━━━┓\n",
       "┃<span style=\"font-weight: bold\"> Name  </span>┃<span style=\"font-weight: bold\"> Elapsed time [s] </span>┃<span style=\"font-weight: bold\"> #Calls </span>┃\n",
       "┡━━━━━━━╇━━━━━━━━━━━━━━━━━━╇━━━━━━━━┩\n",
       "│<span style=\"color: #008080; text-decoration-color: #008080\"> H_bc  </span>│<span style=\"color: #008000; text-decoration-color: #008000\">     0.08918      </span>│<span style=\"color: #800080; text-decoration-color: #800080\">   10   </span>│\n",
       "│<span style=\"color: #008080; text-decoration-color: #008080\"> H_sol </span>│<span style=\"color: #008000; text-decoration-color: #008000\">     0.37887      </span>│<span style=\"color: #800080; text-decoration-color: #800080\">   10   </span>│\n",
       "│<span style=\"color: #008080; text-decoration-color: #008080\"> G_bc  </span>│<span style=\"color: #008000; text-decoration-color: #008000\">     0.08756      </span>│<span style=\"color: #800080; text-decoration-color: #800080\">   10   </span>│\n",
       "│<span style=\"color: #008080; text-decoration-color: #008080\"> G_sol </span>│<span style=\"color: #008000; text-decoration-color: #008000\">     0.39268      </span>│<span style=\"color: #800080; text-decoration-color: #800080\">   10   </span>│\n",
       "└───────┴──────────────────┴────────┘\n",
       "</pre>\n"
      ],
      "text/plain": [
       "\u001b[3m            Timer Report             \u001b[0m\n",
       "┏━━━━━━━┳━━━━━━━━━━━━━━━━━━┳━━━━━━━━┓\n",
       "┃\u001b[1m \u001b[0m\u001b[1mName \u001b[0m\u001b[1m \u001b[0m┃\u001b[1m \u001b[0m\u001b[1mElapsed time [s]\u001b[0m\u001b[1m \u001b[0m┃\u001b[1m \u001b[0m\u001b[1m#Calls\u001b[0m\u001b[1m \u001b[0m┃\n",
       "┡━━━━━━━╇━━━━━━━━━━━━━━━━━━╇━━━━━━━━┩\n",
       "│\u001b[36m \u001b[0m\u001b[36mH_bc \u001b[0m\u001b[36m \u001b[0m│\u001b[32m \u001b[0m\u001b[32m    0.08918     \u001b[0m\u001b[32m \u001b[0m│\u001b[35m \u001b[0m\u001b[35m  10  \u001b[0m\u001b[35m \u001b[0m│\n",
       "│\u001b[36m \u001b[0m\u001b[36mH_sol\u001b[0m\u001b[36m \u001b[0m│\u001b[32m \u001b[0m\u001b[32m    0.37887     \u001b[0m\u001b[32m \u001b[0m│\u001b[35m \u001b[0m\u001b[35m  10  \u001b[0m\u001b[35m \u001b[0m│\n",
       "│\u001b[36m \u001b[0m\u001b[36mG_bc \u001b[0m\u001b[36m \u001b[0m│\u001b[32m \u001b[0m\u001b[32m    0.08756     \u001b[0m\u001b[32m \u001b[0m│\u001b[35m \u001b[0m\u001b[35m  10  \u001b[0m\u001b[35m \u001b[0m│\n",
       "│\u001b[36m \u001b[0m\u001b[36mG_sol\u001b[0m\u001b[36m \u001b[0m│\u001b[32m \u001b[0m\u001b[32m    0.39268     \u001b[0m\u001b[32m \u001b[0m│\u001b[35m \u001b[0m\u001b[35m  10  \u001b[0m\u001b[35m \u001b[0m│\n",
       "└───────┴──────────────────┴────────┘\n"
      ]
     },
     "metadata": {},
     "output_type": "display_data"
    },
    {
     "name": "stdout",
     "output_type": "stream",
     "text": [
      "Tested grid: [64, 128]\n"
     ]
    },
    {
     "data": {
      "text/html": [
       "<pre style=\"white-space:pre;overflow-x:auto;line-height:normal;font-family:Menlo,'DejaVu Sans Mono',consolas,'Courier New',monospace\"><span style=\"font-style: italic\">            Timer Report             </span>\n",
       "┏━━━━━━━┳━━━━━━━━━━━━━━━━━━┳━━━━━━━━┓\n",
       "┃<span style=\"font-weight: bold\"> Name  </span>┃<span style=\"font-weight: bold\"> Elapsed time [s] </span>┃<span style=\"font-weight: bold\"> #Calls </span>┃\n",
       "┡━━━━━━━╇━━━━━━━━━━━━━━━━━━╇━━━━━━━━┩\n",
       "│<span style=\"color: #008080; text-decoration-color: #008080\"> H_bc  </span>│<span style=\"color: #008000; text-decoration-color: #008000\">     0.59745      </span>│<span style=\"color: #800080; text-decoration-color: #800080\">   10   </span>│\n",
       "│<span style=\"color: #008080; text-decoration-color: #008080\"> H_sol </span>│<span style=\"color: #008000; text-decoration-color: #008000\">     1.68591      </span>│<span style=\"color: #800080; text-decoration-color: #800080\">   10   </span>│\n",
       "│<span style=\"color: #008080; text-decoration-color: #008080\"> G_bc  </span>│<span style=\"color: #008000; text-decoration-color: #008000\">     0.59088      </span>│<span style=\"color: #800080; text-decoration-color: #800080\">   10   </span>│\n",
       "│<span style=\"color: #008080; text-decoration-color: #008080\"> G_sol </span>│<span style=\"color: #008000; text-decoration-color: #008000\">     1.90611      </span>│<span style=\"color: #800080; text-decoration-color: #800080\">   10   </span>│\n",
       "└───────┴──────────────────┴────────┘\n",
       "</pre>\n"
      ],
      "text/plain": [
       "\u001b[3m            Timer Report             \u001b[0m\n",
       "┏━━━━━━━┳━━━━━━━━━━━━━━━━━━┳━━━━━━━━┓\n",
       "┃\u001b[1m \u001b[0m\u001b[1mName \u001b[0m\u001b[1m \u001b[0m┃\u001b[1m \u001b[0m\u001b[1mElapsed time [s]\u001b[0m\u001b[1m \u001b[0m┃\u001b[1m \u001b[0m\u001b[1m#Calls\u001b[0m\u001b[1m \u001b[0m┃\n",
       "┡━━━━━━━╇━━━━━━━━━━━━━━━━━━╇━━━━━━━━┩\n",
       "│\u001b[36m \u001b[0m\u001b[36mH_bc \u001b[0m\u001b[36m \u001b[0m│\u001b[32m \u001b[0m\u001b[32m    0.59745     \u001b[0m\u001b[32m \u001b[0m│\u001b[35m \u001b[0m\u001b[35m  10  \u001b[0m\u001b[35m \u001b[0m│\n",
       "│\u001b[36m \u001b[0m\u001b[36mH_sol\u001b[0m\u001b[36m \u001b[0m│\u001b[32m \u001b[0m\u001b[32m    1.68591     \u001b[0m\u001b[32m \u001b[0m│\u001b[35m \u001b[0m\u001b[35m  10  \u001b[0m\u001b[35m \u001b[0m│\n",
       "│\u001b[36m \u001b[0m\u001b[36mG_bc \u001b[0m\u001b[36m \u001b[0m│\u001b[32m \u001b[0m\u001b[32m    0.59088     \u001b[0m\u001b[32m \u001b[0m│\u001b[35m \u001b[0m\u001b[35m  10  \u001b[0m\u001b[35m \u001b[0m│\n",
       "│\u001b[36m \u001b[0m\u001b[36mG_sol\u001b[0m\u001b[36m \u001b[0m│\u001b[32m \u001b[0m\u001b[32m    1.90611     \u001b[0m\u001b[32m \u001b[0m│\u001b[35m \u001b[0m\u001b[35m  10  \u001b[0m\u001b[35m \u001b[0m│\n",
       "└───────┴──────────────────┴────────┘\n"
      ]
     },
     "metadata": {},
     "output_type": "display_data"
    },
    {
     "name": "stdout",
     "output_type": "stream",
     "text": [
      "Tested grid: [128, 256]\n"
     ]
    },
    {
     "data": {
      "text/html": [
       "<pre style=\"white-space:pre;overflow-x:auto;line-height:normal;font-family:Menlo,'DejaVu Sans Mono',consolas,'Courier New',monospace\"><span style=\"font-style: italic\">            Timer Report             </span>\n",
       "┏━━━━━━━┳━━━━━━━━━━━━━━━━━━┳━━━━━━━━┓\n",
       "┃<span style=\"font-weight: bold\"> Name  </span>┃<span style=\"font-weight: bold\"> Elapsed time [s] </span>┃<span style=\"font-weight: bold\"> #Calls </span>┃\n",
       "┡━━━━━━━╇━━━━━━━━━━━━━━━━━━╇━━━━━━━━┩\n",
       "│<span style=\"color: #008080; text-decoration-color: #008080\"> H_bc  </span>│<span style=\"color: #008000; text-decoration-color: #008000\">     4.39087      </span>│<span style=\"color: #800080; text-decoration-color: #800080\">   10   </span>│\n",
       "│<span style=\"color: #008080; text-decoration-color: #008080\"> H_sol </span>│<span style=\"color: #008000; text-decoration-color: #008000\">     10.43475     </span>│<span style=\"color: #800080; text-decoration-color: #800080\">   10   </span>│\n",
       "│<span style=\"color: #008080; text-decoration-color: #008080\"> G_bc  </span>│<span style=\"color: #008000; text-decoration-color: #008000\">     4.17052      </span>│<span style=\"color: #800080; text-decoration-color: #800080\">   10   </span>│\n",
       "│<span style=\"color: #008080; text-decoration-color: #008080\"> G_sol </span>│<span style=\"color: #008000; text-decoration-color: #008000\">     10.84780     </span>│<span style=\"color: #800080; text-decoration-color: #800080\">   10   </span>│\n",
       "└───────┴──────────────────┴────────┘\n",
       "</pre>\n"
      ],
      "text/plain": [
       "\u001b[3m            Timer Report             \u001b[0m\n",
       "┏━━━━━━━┳━━━━━━━━━━━━━━━━━━┳━━━━━━━━┓\n",
       "┃\u001b[1m \u001b[0m\u001b[1mName \u001b[0m\u001b[1m \u001b[0m┃\u001b[1m \u001b[0m\u001b[1mElapsed time [s]\u001b[0m\u001b[1m \u001b[0m┃\u001b[1m \u001b[0m\u001b[1m#Calls\u001b[0m\u001b[1m \u001b[0m┃\n",
       "┡━━━━━━━╇━━━━━━━━━━━━━━━━━━╇━━━━━━━━┩\n",
       "│\u001b[36m \u001b[0m\u001b[36mH_bc \u001b[0m\u001b[36m \u001b[0m│\u001b[32m \u001b[0m\u001b[32m    4.39087     \u001b[0m\u001b[32m \u001b[0m│\u001b[35m \u001b[0m\u001b[35m  10  \u001b[0m\u001b[35m \u001b[0m│\n",
       "│\u001b[36m \u001b[0m\u001b[36mH_sol\u001b[0m\u001b[36m \u001b[0m│\u001b[32m \u001b[0m\u001b[32m    10.43475    \u001b[0m\u001b[32m \u001b[0m│\u001b[35m \u001b[0m\u001b[35m  10  \u001b[0m\u001b[35m \u001b[0m│\n",
       "│\u001b[36m \u001b[0m\u001b[36mG_bc \u001b[0m\u001b[36m \u001b[0m│\u001b[32m \u001b[0m\u001b[32m    4.17052     \u001b[0m\u001b[32m \u001b[0m│\u001b[35m \u001b[0m\u001b[35m  10  \u001b[0m\u001b[35m \u001b[0m│\n",
       "│\u001b[36m \u001b[0m\u001b[36mG_sol\u001b[0m\u001b[36m \u001b[0m│\u001b[32m \u001b[0m\u001b[32m    10.84780    \u001b[0m\u001b[32m \u001b[0m│\u001b[35m \u001b[0m\u001b[35m  10  \u001b[0m\u001b[35m \u001b[0m│\n",
       "└───────┴──────────────────┴────────┘\n"
      ]
     },
     "metadata": {},
     "output_type": "display_data"
    },
    {
     "name": "stdout",
     "output_type": "stream",
     "text": [
      "Tested grid: [256, 512]\n"
     ]
    },
    {
     "data": {
      "text/html": [
       "<pre style=\"white-space:pre;overflow-x:auto;line-height:normal;font-family:Menlo,'DejaVu Sans Mono',consolas,'Courier New',monospace\"><span style=\"font-style: italic\">            Timer Report             </span>\n",
       "┏━━━━━━━┳━━━━━━━━━━━━━━━━━━┳━━━━━━━━┓\n",
       "┃<span style=\"font-weight: bold\"> Name  </span>┃<span style=\"font-weight: bold\"> Elapsed time [s] </span>┃<span style=\"font-weight: bold\"> #Calls </span>┃\n",
       "┡━━━━━━━╇━━━━━━━━━━━━━━━━━━╇━━━━━━━━┩\n",
       "│<span style=\"color: #008080; text-decoration-color: #008080\"> H_bc  </span>│<span style=\"color: #008000; text-decoration-color: #008000\">     57.30470     </span>│<span style=\"color: #800080; text-decoration-color: #800080\">   10   </span>│\n",
       "│<span style=\"color: #008080; text-decoration-color: #008080\"> H_sol </span>│<span style=\"color: #008000; text-decoration-color: #008000\">     74.41498     </span>│<span style=\"color: #800080; text-decoration-color: #800080\">   10   </span>│\n",
       "│<span style=\"color: #008080; text-decoration-color: #008080\"> G_bc  </span>│<span style=\"color: #008000; text-decoration-color: #008000\">     55.42355     </span>│<span style=\"color: #800080; text-decoration-color: #800080\">   10   </span>│\n",
       "│<span style=\"color: #008080; text-decoration-color: #008080\"> G_sol </span>│<span style=\"color: #008000; text-decoration-color: #008000\">     71.48135     </span>│<span style=\"color: #800080; text-decoration-color: #800080\">   10   </span>│\n",
       "└───────┴──────────────────┴────────┘\n",
       "</pre>\n"
      ],
      "text/plain": [
       "\u001b[3m            Timer Report             \u001b[0m\n",
       "┏━━━━━━━┳━━━━━━━━━━━━━━━━━━┳━━━━━━━━┓\n",
       "┃\u001b[1m \u001b[0m\u001b[1mName \u001b[0m\u001b[1m \u001b[0m┃\u001b[1m \u001b[0m\u001b[1mElapsed time [s]\u001b[0m\u001b[1m \u001b[0m┃\u001b[1m \u001b[0m\u001b[1m#Calls\u001b[0m\u001b[1m \u001b[0m┃\n",
       "┡━━━━━━━╇━━━━━━━━━━━━━━━━━━╇━━━━━━━━┩\n",
       "│\u001b[36m \u001b[0m\u001b[36mH_bc \u001b[0m\u001b[36m \u001b[0m│\u001b[32m \u001b[0m\u001b[32m    57.30470    \u001b[0m\u001b[32m \u001b[0m│\u001b[35m \u001b[0m\u001b[35m  10  \u001b[0m\u001b[35m \u001b[0m│\n",
       "│\u001b[36m \u001b[0m\u001b[36mH_sol\u001b[0m\u001b[36m \u001b[0m│\u001b[32m \u001b[0m\u001b[32m    74.41498    \u001b[0m\u001b[32m \u001b[0m│\u001b[35m \u001b[0m\u001b[35m  10  \u001b[0m\u001b[35m \u001b[0m│\n",
       "│\u001b[36m \u001b[0m\u001b[36mG_bc \u001b[0m\u001b[36m \u001b[0m│\u001b[32m \u001b[0m\u001b[32m    55.42355    \u001b[0m\u001b[32m \u001b[0m│\u001b[35m \u001b[0m\u001b[35m  10  \u001b[0m\u001b[35m \u001b[0m│\n",
       "│\u001b[36m \u001b[0m\u001b[36mG_sol\u001b[0m\u001b[36m \u001b[0m│\u001b[32m \u001b[0m\u001b[32m    71.48135    \u001b[0m\u001b[32m \u001b[0m│\u001b[35m \u001b[0m\u001b[35m  10  \u001b[0m\u001b[35m \u001b[0m│\n",
       "└───────┴──────────────────┴────────┘\n"
      ]
     },
     "metadata": {},
     "output_type": "display_data"
    }
   ],
   "source": [
    "device=\"cpu\"\n",
    "grids = [[32, 64], [64, 128], [128, 256], [256, 512]]\n",
    "\n",
    "for g in grids:\n",
    "    mesh = Mesh(Cylinder[0:5, -5:5], None, g, device=device)\n",
    "\n",
    "    dist = 1.0 / (2.0 * PI) ** 1.5 * torch.exp(-0.5 * (mesh.R**2 + mesh.Z**2))\n",
    "\n",
    "    density = torch.sum(dist * 2.0 * PI * mesh.dx[0] * mesh.dx[1] * mesh.R)\n",
    "    dist /= density\n",
    "\n",
    "    rfp_rz = RFP_RZ(mesh, 0.0001, 10, dist)\n",
    "    rfp_rz.run(no_update=True)\n",
    "    print(f\"Tested grid: {g}\")\n",
    "    rfp_rz.timer.display()\n",
    "    rfp_rz.timer.reset()"
   ]
  }
 ],
 "metadata": {
  "kernelspec": {
   "display_name": ".venv",
   "language": "python",
   "name": "python3"
  },
  "language_info": {
   "name": "python",
   "version": "3.10.10"
  },
  "orig_nbformat": 4
 },
 "nbformat": 4,
 "nbformat_minor": 2
}
