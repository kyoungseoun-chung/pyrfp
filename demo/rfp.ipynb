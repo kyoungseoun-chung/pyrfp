{
 "cells": [
  {
   "attachments": {},
   "cell_type": "markdown",
   "metadata": {},
   "source": [
    "# The Rosenbluth-Fokker-Planck equation\n",
    "\n",
    "- Import all relevant modules"
   ]
  },
  {
   "cell_type": "code",
   "execution_count": 1,
   "metadata": {},
   "outputs": [],
   "source": [
    "import torch\n",
    "from pyapes.geometry import Cylinder\n",
    "from pyapes.mesh import Mesh\n",
    "from pyrfp.simulators.rfp import RFP_RZ\n",
    "from pyrfp.training_data import RosenbluthPotentials_RZ\n",
    "from pymytools.constants import PI\n"
   ]
  },
  {
   "attachments": {},
   "cell_type": "markdown",
   "metadata": {},
   "source": [
    "- Set some parameters to be used later"
   ]
  },
  {
   "cell_type": "code",
   "execution_count": 2,
   "metadata": {},
   "outputs": [],
   "source": [
    "device=\"cpu\"\n",
    "grids = [[32, 64], [64, 128], [128, 256], [256, 512]]"
   ]
  },
  {
   "attachments": {},
   "cell_type": "markdown",
   "metadata": {},
   "source": [
    "- Solver accuracy at different grids"
   ]
  },
  {
   "cell_type": "code",
   "execution_count": 3,
   "metadata": {},
   "outputs": [
    {
     "name": "stdout",
     "output_type": "stream",
     "text": [
      "Grid: [32, 64]\n"
     ]
    },
    {
     "data": {
      "text/html": [
       "<pre style=\"white-space:pre;overflow-x:auto;line-height:normal;font-family:Menlo,'DejaVu Sans Mono',consolas,'Courier New',monospace\"><span style=\"font-style: italic\">             Timer Report             </span>\n",
       "┏━━━━━━━━┳━━━━━━━━━━━━━━━━━━┳━━━━━━━━┓\n",
       "┃<span style=\"font-weight: bold\">  Name  </span>┃<span style=\"font-weight: bold\"> Elapsed time [s] </span>┃<span style=\"font-weight: bold\"> #Calls </span>┃\n",
       "┡━━━━━━━━╇━━━━━━━━━━━━━━━━━━╇━━━━━━━━┩\n",
       "│<span style=\"color: #008080; text-decoration-color: #008080\">  H_bc  </span>│<span style=\"color: #008000; text-decoration-color: #008000\">     0.01489      </span>│<span style=\"color: #800080; text-decoration-color: #800080\">   1    </span>│\n",
       "│<span style=\"color: #008080; text-decoration-color: #008080\"> H_pot  </span>│<span style=\"color: #008000; text-decoration-color: #008000\">     0.05342      </span>│<span style=\"color: #800080; text-decoration-color: #800080\">   1    </span>│\n",
       "│<span style=\"color: #008080; text-decoration-color: #008080\">  G_bc  </span>│<span style=\"color: #008000; text-decoration-color: #008000\">     0.01074      </span>│<span style=\"color: #800080; text-decoration-color: #800080\">   1    </span>│\n",
       "│<span style=\"color: #008080; text-decoration-color: #008080\"> G_pot  </span>│<span style=\"color: #008000; text-decoration-color: #008000\">     0.04690      </span>│<span style=\"color: #800080; text-decoration-color: #800080\">   1    </span>│\n",
       "│<span style=\"color: #008080; text-decoration-color: #008080\"> aH_pot </span>│<span style=\"color: #008000; text-decoration-color: #008000\">     0.08827      </span>│<span style=\"color: #800080; text-decoration-color: #800080\">   1    </span>│\n",
       "│<span style=\"color: #008080; text-decoration-color: #008080\"> aG_pot </span>│<span style=\"color: #008000; text-decoration-color: #008000\">     0.06233      </span>│<span style=\"color: #800080; text-decoration-color: #800080\">   1    </span>│\n",
       "└────────┴──────────────────┴────────┘\n",
       "</pre>\n"
      ],
      "text/plain": [
       "\u001b[3m             Timer Report             \u001b[0m\n",
       "┏━━━━━━━━┳━━━━━━━━━━━━━━━━━━┳━━━━━━━━┓\n",
       "┃\u001b[1m \u001b[0m\u001b[1m Name \u001b[0m\u001b[1m \u001b[0m┃\u001b[1m \u001b[0m\u001b[1mElapsed time [s]\u001b[0m\u001b[1m \u001b[0m┃\u001b[1m \u001b[0m\u001b[1m#Calls\u001b[0m\u001b[1m \u001b[0m┃\n",
       "┡━━━━━━━━╇━━━━━━━━━━━━━━━━━━╇━━━━━━━━┩\n",
       "│\u001b[36m \u001b[0m\u001b[36m H_bc \u001b[0m\u001b[36m \u001b[0m│\u001b[32m \u001b[0m\u001b[32m    0.01489     \u001b[0m\u001b[32m \u001b[0m│\u001b[35m \u001b[0m\u001b[35m  1   \u001b[0m\u001b[35m \u001b[0m│\n",
       "│\u001b[36m \u001b[0m\u001b[36mH_pot \u001b[0m\u001b[36m \u001b[0m│\u001b[32m \u001b[0m\u001b[32m    0.05342     \u001b[0m\u001b[32m \u001b[0m│\u001b[35m \u001b[0m\u001b[35m  1   \u001b[0m\u001b[35m \u001b[0m│\n",
       "│\u001b[36m \u001b[0m\u001b[36m G_bc \u001b[0m\u001b[36m \u001b[0m│\u001b[32m \u001b[0m\u001b[32m    0.01074     \u001b[0m\u001b[32m \u001b[0m│\u001b[35m \u001b[0m\u001b[35m  1   \u001b[0m\u001b[35m \u001b[0m│\n",
       "│\u001b[36m \u001b[0m\u001b[36mG_pot \u001b[0m\u001b[36m \u001b[0m│\u001b[32m \u001b[0m\u001b[32m    0.04690     \u001b[0m\u001b[32m \u001b[0m│\u001b[35m \u001b[0m\u001b[35m  1   \u001b[0m\u001b[35m \u001b[0m│\n",
       "│\u001b[36m \u001b[0m\u001b[36maH_pot\u001b[0m\u001b[36m \u001b[0m│\u001b[32m \u001b[0m\u001b[32m    0.08827     \u001b[0m\u001b[32m \u001b[0m│\u001b[35m \u001b[0m\u001b[35m  1   \u001b[0m\u001b[35m \u001b[0m│\n",
       "│\u001b[36m \u001b[0m\u001b[36maG_pot\u001b[0m\u001b[36m \u001b[0m│\u001b[32m \u001b[0m\u001b[32m    0.06233     \u001b[0m\u001b[32m \u001b[0m│\u001b[35m \u001b[0m\u001b[35m  1   \u001b[0m\u001b[35m \u001b[0m│\n",
       "└────────┴──────────────────┴────────┘\n"
      ]
     },
     "metadata": {},
     "output_type": "display_data"
    },
    {
     "name": "stdout",
     "output_type": "stream",
     "text": [
      "Grid: [64, 128]\n"
     ]
    },
    {
     "data": {
      "text/html": [
       "<pre style=\"white-space:pre;overflow-x:auto;line-height:normal;font-family:Menlo,'DejaVu Sans Mono',consolas,'Courier New',monospace\"><span style=\"font-style: italic\">             Timer Report             </span>\n",
       "┏━━━━━━━━┳━━━━━━━━━━━━━━━━━━┳━━━━━━━━┓\n",
       "┃<span style=\"font-weight: bold\">  Name  </span>┃<span style=\"font-weight: bold\"> Elapsed time [s] </span>┃<span style=\"font-weight: bold\"> #Calls </span>┃\n",
       "┡━━━━━━━━╇━━━━━━━━━━━━━━━━━━╇━━━━━━━━┩\n",
       "│<span style=\"color: #008080; text-decoration-color: #008080\">  H_bc  </span>│<span style=\"color: #008000; text-decoration-color: #008000\">     0.06543      </span>│<span style=\"color: #800080; text-decoration-color: #800080\">   1    </span>│\n",
       "│<span style=\"color: #008080; text-decoration-color: #008080\"> H_pot  </span>│<span style=\"color: #008000; text-decoration-color: #008000\">     0.23041      </span>│<span style=\"color: #800080; text-decoration-color: #800080\">   1    </span>│\n",
       "│<span style=\"color: #008080; text-decoration-color: #008080\">  G_bc  </span>│<span style=\"color: #008000; text-decoration-color: #008000\">     0.06327      </span>│<span style=\"color: #800080; text-decoration-color: #800080\">   1    </span>│\n",
       "│<span style=\"color: #008080; text-decoration-color: #008080\"> G_pot  </span>│<span style=\"color: #008000; text-decoration-color: #008000\">     0.22706      </span>│<span style=\"color: #800080; text-decoration-color: #800080\">   1    </span>│\n",
       "│<span style=\"color: #008080; text-decoration-color: #008080\"> aH_pot </span>│<span style=\"color: #008000; text-decoration-color: #008000\">     1.18830      </span>│<span style=\"color: #800080; text-decoration-color: #800080\">   1    </span>│\n",
       "│<span style=\"color: #008080; text-decoration-color: #008080\"> aG_pot </span>│<span style=\"color: #008000; text-decoration-color: #008000\">     1.15290      </span>│<span style=\"color: #800080; text-decoration-color: #800080\">   1    </span>│\n",
       "└────────┴──────────────────┴────────┘\n",
       "</pre>\n"
      ],
      "text/plain": [
       "\u001b[3m             Timer Report             \u001b[0m\n",
       "┏━━━━━━━━┳━━━━━━━━━━━━━━━━━━┳━━━━━━━━┓\n",
       "┃\u001b[1m \u001b[0m\u001b[1m Name \u001b[0m\u001b[1m \u001b[0m┃\u001b[1m \u001b[0m\u001b[1mElapsed time [s]\u001b[0m\u001b[1m \u001b[0m┃\u001b[1m \u001b[0m\u001b[1m#Calls\u001b[0m\u001b[1m \u001b[0m┃\n",
       "┡━━━━━━━━╇━━━━━━━━━━━━━━━━━━╇━━━━━━━━┩\n",
       "│\u001b[36m \u001b[0m\u001b[36m H_bc \u001b[0m\u001b[36m \u001b[0m│\u001b[32m \u001b[0m\u001b[32m    0.06543     \u001b[0m\u001b[32m \u001b[0m│\u001b[35m \u001b[0m\u001b[35m  1   \u001b[0m\u001b[35m \u001b[0m│\n",
       "│\u001b[36m \u001b[0m\u001b[36mH_pot \u001b[0m\u001b[36m \u001b[0m│\u001b[32m \u001b[0m\u001b[32m    0.23041     \u001b[0m\u001b[32m \u001b[0m│\u001b[35m \u001b[0m\u001b[35m  1   \u001b[0m\u001b[35m \u001b[0m│\n",
       "│\u001b[36m \u001b[0m\u001b[36m G_bc \u001b[0m\u001b[36m \u001b[0m│\u001b[32m \u001b[0m\u001b[32m    0.06327     \u001b[0m\u001b[32m \u001b[0m│\u001b[35m \u001b[0m\u001b[35m  1   \u001b[0m\u001b[35m \u001b[0m│\n",
       "│\u001b[36m \u001b[0m\u001b[36mG_pot \u001b[0m\u001b[36m \u001b[0m│\u001b[32m \u001b[0m\u001b[32m    0.22706     \u001b[0m\u001b[32m \u001b[0m│\u001b[35m \u001b[0m\u001b[35m  1   \u001b[0m\u001b[35m \u001b[0m│\n",
       "│\u001b[36m \u001b[0m\u001b[36maH_pot\u001b[0m\u001b[36m \u001b[0m│\u001b[32m \u001b[0m\u001b[32m    1.18830     \u001b[0m\u001b[32m \u001b[0m│\u001b[35m \u001b[0m\u001b[35m  1   \u001b[0m\u001b[35m \u001b[0m│\n",
       "│\u001b[36m \u001b[0m\u001b[36maG_pot\u001b[0m\u001b[36m \u001b[0m│\u001b[32m \u001b[0m\u001b[32m    1.15290     \u001b[0m\u001b[32m \u001b[0m│\u001b[35m \u001b[0m\u001b[35m  1   \u001b[0m\u001b[35m \u001b[0m│\n",
       "└────────┴──────────────────┴────────┘\n"
      ]
     },
     "metadata": {},
     "output_type": "display_data"
    },
    {
     "ename": "",
     "evalue": "",
     "output_type": "error",
     "traceback": [
      "\u001b[1;31mCanceled future for execute_request message before replies were done"
     ]
    },
    {
     "ename": "",
     "evalue": "",
     "output_type": "error",
     "traceback": [
      "\u001b[1;31mThe Kernel crashed while executing code in the the current cell or a previous cell. Please review the code in the cell(s) to identify a possible cause of the failure. Click <a href='https://aka.ms/vscodeJupyterKernelCrash'>here</a> for more info. View Jupyter <a href='command:jupyter.viewOutput'>log</a> for further details."
     ]
    }
   ],
   "source": [
    "for g in grids:\n",
    "    mesh = Mesh(Cylinder[0:5, -5:5], None, g, device=device)\n",
    "    dist = 1.0 / (2.0 * PI) ** 1.5 * torch.exp(-0.5 * (mesh.R**2 + mesh.Z**2))\n",
    "\n",
    "    density = torch.sum(dist * 2.0 * PI * mesh.dx[0] * mesh.dx[1] * mesh.R)\n",
    "    dist /= density\n",
    "    \n",
    "    rp_rz = RosenbluthPotentials_RZ(mesh, solver_config={\n",
    "            \"method\": \"bicgstab\",\n",
    "            \"tol\": 1e-8,\n",
    "            \"max_it\": 1000,\n",
    "            \"report\": False,\n",
    "        })\n",
    "    \n",
    "    res_sol = rp_rz.from_pdf(dist, disp=False)\n",
    "    res_analytic = rp_rz.from_analytic(dist, disp=False)\n",
    "    \n",
    "    assert res_sol[\"timer\"] is not None\n",
    "    assert res_analytic[\"timer\"] is not None\n",
    "    \n",
    "    assert res_sol[\"pots\"] is not None\n",
    "    assert res_analytic[\"pots\"] is not None\n",
    "    \n",
    "    print(f\"Grid: {g}\")\n",
    "    res_sol[\"timer\"].display()\n",
    "    \n",
    "    rp_rz.timer.reset()\n",
    "\n"
   ]
  },
  {
   "attachments": {},
   "cell_type": "markdown",
   "metadata": {},
   "source": [
    "- Computational cost with different grid sized"
   ]
  },
  {
   "cell_type": "code",
   "execution_count": 2,
   "metadata": {},
   "outputs": [
    {
     "name": "stdout",
     "output_type": "stream",
     "text": [
      "Tested grid: [32, 64]\n"
     ]
    },
    {
     "data": {
      "text/html": [
       "<pre style=\"white-space:pre;overflow-x:auto;line-height:normal;font-family:Menlo,'DejaVu Sans Mono',consolas,'Courier New',monospace\"><span style=\"font-style: italic\">            Timer Report             </span>\n",
       "┏━━━━━━━┳━━━━━━━━━━━━━━━━━━┳━━━━━━━━┓\n",
       "┃<span style=\"font-weight: bold\"> Name  </span>┃<span style=\"font-weight: bold\"> Elapsed time [s] </span>┃<span style=\"font-weight: bold\"> #Calls </span>┃\n",
       "┡━━━━━━━╇━━━━━━━━━━━━━━━━━━╇━━━━━━━━┩\n",
       "│<span style=\"color: #008080; text-decoration-color: #008080\"> H_bc  </span>│<span style=\"color: #008000; text-decoration-color: #008000\">     0.08918      </span>│<span style=\"color: #800080; text-decoration-color: #800080\">   10   </span>│\n",
       "│<span style=\"color: #008080; text-decoration-color: #008080\"> H_sol </span>│<span style=\"color: #008000; text-decoration-color: #008000\">     0.37887      </span>│<span style=\"color: #800080; text-decoration-color: #800080\">   10   </span>│\n",
       "│<span style=\"color: #008080; text-decoration-color: #008080\"> G_bc  </span>│<span style=\"color: #008000; text-decoration-color: #008000\">     0.08756      </span>│<span style=\"color: #800080; text-decoration-color: #800080\">   10   </span>│\n",
       "│<span style=\"color: #008080; text-decoration-color: #008080\"> G_sol </span>│<span style=\"color: #008000; text-decoration-color: #008000\">     0.39268      </span>│<span style=\"color: #800080; text-decoration-color: #800080\">   10   </span>│\n",
       "└───────┴──────────────────┴────────┘\n",
       "</pre>\n"
      ],
      "text/plain": [
       "\u001b[3m            Timer Report             \u001b[0m\n",
       "┏━━━━━━━┳━━━━━━━━━━━━━━━━━━┳━━━━━━━━┓\n",
       "┃\u001b[1m \u001b[0m\u001b[1mName \u001b[0m\u001b[1m \u001b[0m┃\u001b[1m \u001b[0m\u001b[1mElapsed time [s]\u001b[0m\u001b[1m \u001b[0m┃\u001b[1m \u001b[0m\u001b[1m#Calls\u001b[0m\u001b[1m \u001b[0m┃\n",
       "┡━━━━━━━╇━━━━━━━━━━━━━━━━━━╇━━━━━━━━┩\n",
       "│\u001b[36m \u001b[0m\u001b[36mH_bc \u001b[0m\u001b[36m \u001b[0m│\u001b[32m \u001b[0m\u001b[32m    0.08918     \u001b[0m\u001b[32m \u001b[0m│\u001b[35m \u001b[0m\u001b[35m  10  \u001b[0m\u001b[35m \u001b[0m│\n",
       "│\u001b[36m \u001b[0m\u001b[36mH_sol\u001b[0m\u001b[36m \u001b[0m│\u001b[32m \u001b[0m\u001b[32m    0.37887     \u001b[0m\u001b[32m \u001b[0m│\u001b[35m \u001b[0m\u001b[35m  10  \u001b[0m\u001b[35m \u001b[0m│\n",
       "│\u001b[36m \u001b[0m\u001b[36mG_bc \u001b[0m\u001b[36m \u001b[0m│\u001b[32m \u001b[0m\u001b[32m    0.08756     \u001b[0m\u001b[32m \u001b[0m│\u001b[35m \u001b[0m\u001b[35m  10  \u001b[0m\u001b[35m \u001b[0m│\n",
       "│\u001b[36m \u001b[0m\u001b[36mG_sol\u001b[0m\u001b[36m \u001b[0m│\u001b[32m \u001b[0m\u001b[32m    0.39268     \u001b[0m\u001b[32m \u001b[0m│\u001b[35m \u001b[0m\u001b[35m  10  \u001b[0m\u001b[35m \u001b[0m│\n",
       "└───────┴──────────────────┴────────┘\n"
      ]
     },
     "metadata": {},
     "output_type": "display_data"
    },
    {
     "name": "stdout",
     "output_type": "stream",
     "text": [
      "Tested grid: [64, 128]\n"
     ]
    },
    {
     "data": {
      "text/html": [
       "<pre style=\"white-space:pre;overflow-x:auto;line-height:normal;font-family:Menlo,'DejaVu Sans Mono',consolas,'Courier New',monospace\"><span style=\"font-style: italic\">            Timer Report             </span>\n",
       "┏━━━━━━━┳━━━━━━━━━━━━━━━━━━┳━━━━━━━━┓\n",
       "┃<span style=\"font-weight: bold\"> Name  </span>┃<span style=\"font-weight: bold\"> Elapsed time [s] </span>┃<span style=\"font-weight: bold\"> #Calls </span>┃\n",
       "┡━━━━━━━╇━━━━━━━━━━━━━━━━━━╇━━━━━━━━┩\n",
       "│<span style=\"color: #008080; text-decoration-color: #008080\"> H_bc  </span>│<span style=\"color: #008000; text-decoration-color: #008000\">     0.59745      </span>│<span style=\"color: #800080; text-decoration-color: #800080\">   10   </span>│\n",
       "│<span style=\"color: #008080; text-decoration-color: #008080\"> H_sol </span>│<span style=\"color: #008000; text-decoration-color: #008000\">     1.68591      </span>│<span style=\"color: #800080; text-decoration-color: #800080\">   10   </span>│\n",
       "│<span style=\"color: #008080; text-decoration-color: #008080\"> G_bc  </span>│<span style=\"color: #008000; text-decoration-color: #008000\">     0.59088      </span>│<span style=\"color: #800080; text-decoration-color: #800080\">   10   </span>│\n",
       "│<span style=\"color: #008080; text-decoration-color: #008080\"> G_sol </span>│<span style=\"color: #008000; text-decoration-color: #008000\">     1.90611      </span>│<span style=\"color: #800080; text-decoration-color: #800080\">   10   </span>│\n",
       "└───────┴──────────────────┴────────┘\n",
       "</pre>\n"
      ],
      "text/plain": [
       "\u001b[3m            Timer Report             \u001b[0m\n",
       "┏━━━━━━━┳━━━━━━━━━━━━━━━━━━┳━━━━━━━━┓\n",
       "┃\u001b[1m \u001b[0m\u001b[1mName \u001b[0m\u001b[1m \u001b[0m┃\u001b[1m \u001b[0m\u001b[1mElapsed time [s]\u001b[0m\u001b[1m \u001b[0m┃\u001b[1m \u001b[0m\u001b[1m#Calls\u001b[0m\u001b[1m \u001b[0m┃\n",
       "┡━━━━━━━╇━━━━━━━━━━━━━━━━━━╇━━━━━━━━┩\n",
       "│\u001b[36m \u001b[0m\u001b[36mH_bc \u001b[0m\u001b[36m \u001b[0m│\u001b[32m \u001b[0m\u001b[32m    0.59745     \u001b[0m\u001b[32m \u001b[0m│\u001b[35m \u001b[0m\u001b[35m  10  \u001b[0m\u001b[35m \u001b[0m│\n",
       "│\u001b[36m \u001b[0m\u001b[36mH_sol\u001b[0m\u001b[36m \u001b[0m│\u001b[32m \u001b[0m\u001b[32m    1.68591     \u001b[0m\u001b[32m \u001b[0m│\u001b[35m \u001b[0m\u001b[35m  10  \u001b[0m\u001b[35m \u001b[0m│\n",
       "│\u001b[36m \u001b[0m\u001b[36mG_bc \u001b[0m\u001b[36m \u001b[0m│\u001b[32m \u001b[0m\u001b[32m    0.59088     \u001b[0m\u001b[32m \u001b[0m│\u001b[35m \u001b[0m\u001b[35m  10  \u001b[0m\u001b[35m \u001b[0m│\n",
       "│\u001b[36m \u001b[0m\u001b[36mG_sol\u001b[0m\u001b[36m \u001b[0m│\u001b[32m \u001b[0m\u001b[32m    1.90611     \u001b[0m\u001b[32m \u001b[0m│\u001b[35m \u001b[0m\u001b[35m  10  \u001b[0m\u001b[35m \u001b[0m│\n",
       "└───────┴──────────────────┴────────┘\n"
      ]
     },
     "metadata": {},
     "output_type": "display_data"
    },
    {
     "name": "stdout",
     "output_type": "stream",
     "text": [
      "Tested grid: [128, 256]\n"
     ]
    },
    {
     "data": {
      "text/html": [
       "<pre style=\"white-space:pre;overflow-x:auto;line-height:normal;font-family:Menlo,'DejaVu Sans Mono',consolas,'Courier New',monospace\"><span style=\"font-style: italic\">            Timer Report             </span>\n",
       "┏━━━━━━━┳━━━━━━━━━━━━━━━━━━┳━━━━━━━━┓\n",
       "┃<span style=\"font-weight: bold\"> Name  </span>┃<span style=\"font-weight: bold\"> Elapsed time [s] </span>┃<span style=\"font-weight: bold\"> #Calls </span>┃\n",
       "┡━━━━━━━╇━━━━━━━━━━━━━━━━━━╇━━━━━━━━┩\n",
       "│<span style=\"color: #008080; text-decoration-color: #008080\"> H_bc  </span>│<span style=\"color: #008000; text-decoration-color: #008000\">     4.39087      </span>│<span style=\"color: #800080; text-decoration-color: #800080\">   10   </span>│\n",
       "│<span style=\"color: #008080; text-decoration-color: #008080\"> H_sol </span>│<span style=\"color: #008000; text-decoration-color: #008000\">     10.43475     </span>│<span style=\"color: #800080; text-decoration-color: #800080\">   10   </span>│\n",
       "│<span style=\"color: #008080; text-decoration-color: #008080\"> G_bc  </span>│<span style=\"color: #008000; text-decoration-color: #008000\">     4.17052      </span>│<span style=\"color: #800080; text-decoration-color: #800080\">   10   </span>│\n",
       "│<span style=\"color: #008080; text-decoration-color: #008080\"> G_sol </span>│<span style=\"color: #008000; text-decoration-color: #008000\">     10.84780     </span>│<span style=\"color: #800080; text-decoration-color: #800080\">   10   </span>│\n",
       "└───────┴──────────────────┴────────┘\n",
       "</pre>\n"
      ],
      "text/plain": [
       "\u001b[3m            Timer Report             \u001b[0m\n",
       "┏━━━━━━━┳━━━━━━━━━━━━━━━━━━┳━━━━━━━━┓\n",
       "┃\u001b[1m \u001b[0m\u001b[1mName \u001b[0m\u001b[1m \u001b[0m┃\u001b[1m \u001b[0m\u001b[1mElapsed time [s]\u001b[0m\u001b[1m \u001b[0m┃\u001b[1m \u001b[0m\u001b[1m#Calls\u001b[0m\u001b[1m \u001b[0m┃\n",
       "┡━━━━━━━╇━━━━━━━━━━━━━━━━━━╇━━━━━━━━┩\n",
       "│\u001b[36m \u001b[0m\u001b[36mH_bc \u001b[0m\u001b[36m \u001b[0m│\u001b[32m \u001b[0m\u001b[32m    4.39087     \u001b[0m\u001b[32m \u001b[0m│\u001b[35m \u001b[0m\u001b[35m  10  \u001b[0m\u001b[35m \u001b[0m│\n",
       "│\u001b[36m \u001b[0m\u001b[36mH_sol\u001b[0m\u001b[36m \u001b[0m│\u001b[32m \u001b[0m\u001b[32m    10.43475    \u001b[0m\u001b[32m \u001b[0m│\u001b[35m \u001b[0m\u001b[35m  10  \u001b[0m\u001b[35m \u001b[0m│\n",
       "│\u001b[36m \u001b[0m\u001b[36mG_bc \u001b[0m\u001b[36m \u001b[0m│\u001b[32m \u001b[0m\u001b[32m    4.17052     \u001b[0m\u001b[32m \u001b[0m│\u001b[35m \u001b[0m\u001b[35m  10  \u001b[0m\u001b[35m \u001b[0m│\n",
       "│\u001b[36m \u001b[0m\u001b[36mG_sol\u001b[0m\u001b[36m \u001b[0m│\u001b[32m \u001b[0m\u001b[32m    10.84780    \u001b[0m\u001b[32m \u001b[0m│\u001b[35m \u001b[0m\u001b[35m  10  \u001b[0m\u001b[35m \u001b[0m│\n",
       "└───────┴──────────────────┴────────┘\n"
      ]
     },
     "metadata": {},
     "output_type": "display_data"
    },
    {
     "name": "stdout",
     "output_type": "stream",
     "text": [
      "Tested grid: [256, 512]\n"
     ]
    },
    {
     "data": {
      "text/html": [
       "<pre style=\"white-space:pre;overflow-x:auto;line-height:normal;font-family:Menlo,'DejaVu Sans Mono',consolas,'Courier New',monospace\"><span style=\"font-style: italic\">            Timer Report             </span>\n",
       "┏━━━━━━━┳━━━━━━━━━━━━━━━━━━┳━━━━━━━━┓\n",
       "┃<span style=\"font-weight: bold\"> Name  </span>┃<span style=\"font-weight: bold\"> Elapsed time [s] </span>┃<span style=\"font-weight: bold\"> #Calls </span>┃\n",
       "┡━━━━━━━╇━━━━━━━━━━━━━━━━━━╇━━━━━━━━┩\n",
       "│<span style=\"color: #008080; text-decoration-color: #008080\"> H_bc  </span>│<span style=\"color: #008000; text-decoration-color: #008000\">     57.30470     </span>│<span style=\"color: #800080; text-decoration-color: #800080\">   10   </span>│\n",
       "│<span style=\"color: #008080; text-decoration-color: #008080\"> H_sol </span>│<span style=\"color: #008000; text-decoration-color: #008000\">     74.41498     </span>│<span style=\"color: #800080; text-decoration-color: #800080\">   10   </span>│\n",
       "│<span style=\"color: #008080; text-decoration-color: #008080\"> G_bc  </span>│<span style=\"color: #008000; text-decoration-color: #008000\">     55.42355     </span>│<span style=\"color: #800080; text-decoration-color: #800080\">   10   </span>│\n",
       "│<span style=\"color: #008080; text-decoration-color: #008080\"> G_sol </span>│<span style=\"color: #008000; text-decoration-color: #008000\">     71.48135     </span>│<span style=\"color: #800080; text-decoration-color: #800080\">   10   </span>│\n",
       "└───────┴──────────────────┴────────┘\n",
       "</pre>\n"
      ],
      "text/plain": [
       "\u001b[3m            Timer Report             \u001b[0m\n",
       "┏━━━━━━━┳━━━━━━━━━━━━━━━━━━┳━━━━━━━━┓\n",
       "┃\u001b[1m \u001b[0m\u001b[1mName \u001b[0m\u001b[1m \u001b[0m┃\u001b[1m \u001b[0m\u001b[1mElapsed time [s]\u001b[0m\u001b[1m \u001b[0m┃\u001b[1m \u001b[0m\u001b[1m#Calls\u001b[0m\u001b[1m \u001b[0m┃\n",
       "┡━━━━━━━╇━━━━━━━━━━━━━━━━━━╇━━━━━━━━┩\n",
       "│\u001b[36m \u001b[0m\u001b[36mH_bc \u001b[0m\u001b[36m \u001b[0m│\u001b[32m \u001b[0m\u001b[32m    57.30470    \u001b[0m\u001b[32m \u001b[0m│\u001b[35m \u001b[0m\u001b[35m  10  \u001b[0m\u001b[35m \u001b[0m│\n",
       "│\u001b[36m \u001b[0m\u001b[36mH_sol\u001b[0m\u001b[36m \u001b[0m│\u001b[32m \u001b[0m\u001b[32m    74.41498    \u001b[0m\u001b[32m \u001b[0m│\u001b[35m \u001b[0m\u001b[35m  10  \u001b[0m\u001b[35m \u001b[0m│\n",
       "│\u001b[36m \u001b[0m\u001b[36mG_bc \u001b[0m\u001b[36m \u001b[0m│\u001b[32m \u001b[0m\u001b[32m    55.42355    \u001b[0m\u001b[32m \u001b[0m│\u001b[35m \u001b[0m\u001b[35m  10  \u001b[0m\u001b[35m \u001b[0m│\n",
       "│\u001b[36m \u001b[0m\u001b[36mG_sol\u001b[0m\u001b[36m \u001b[0m│\u001b[32m \u001b[0m\u001b[32m    71.48135    \u001b[0m\u001b[32m \u001b[0m│\u001b[35m \u001b[0m\u001b[35m  10  \u001b[0m\u001b[35m \u001b[0m│\n",
       "└───────┴──────────────────┴────────┘\n"
      ]
     },
     "metadata": {},
     "output_type": "display_data"
    }
   ],
   "source": [
    "\n",
    "for g in grids:\n",
    "    mesh = Mesh(Cylinder[0:5, -5:5], None, g, device=device)\n",
    "\n",
    "    dist = 1.0 / (2.0 * PI) ** 1.5 * torch.exp(-0.5 * (mesh.R**2 + mesh.Z**2))\n",
    "\n",
    "    density = torch.sum(dist * 2.0 * PI * mesh.dx[0] * mesh.dx[1] * mesh.R)\n",
    "    dist /= density\n",
    "\n",
    "    rfp_rz = RFP_RZ(mesh, dist, 0.0001, 10)\n",
    "    rfp_rz.run(no_update=True)\n",
    "    print(f\"Tested grid: {g}\")\n",
    "    rfp_rz.timer.display()\n",
    "    rfp_rz.timer.reset()"
   ]
  }
 ],
 "metadata": {
  "kernelspec": {
   "display_name": ".venv",
   "language": "python",
   "name": "python3"
  },
  "language_info": {
   "codemirror_mode": {
    "name": "ipython",
    "version": 3
   },
   "file_extension": ".py",
   "mimetype": "text/x-python",
   "name": "python",
   "nbconvert_exporter": "python",
   "pygments_lexer": "ipython3",
   "version": "3.10.10"
  },
  "orig_nbformat": 4
 },
 "nbformat": 4,
 "nbformat_minor": 2
}
